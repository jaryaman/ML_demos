{
 "cells": [
  {
   "cell_type": "markdown",
   "metadata": {},
   "source": [
    "# Kernel machines\n",
    "\n",
    "When we're doing statistics with objects, it's not always the case that they can be encoded as a fixed-sized vector (typically $\\boldsymbol{x}\\in \\mathbb{R}^D$). For example, a text document, protein sequence, or molecular structure are all examples of objects in the world we may wish to perform inference on, but do not conform to fixed-sized vectors.\n",
    "\n",
    "One way to make progress is if we are able to define a metric of similarity between objects that doesn't require reprocessing the object into a fixed-sized vector. We call such an object a **kernel function**, satisfying $\\kappa(\\boldsymbol{x},\\boldsymbol{x}')\\geq 0$, where $\\boldsymbol{x},\\boldsymbol{x}'$ are elements of some abstract space $\\mathcal{X}$.\n",
    "\n",
    "In this demo, we describe **kernel machines**, which are [generalised linear models](https://en.wikipedia.org/wiki/Generalized_linear_model) where the input feature vector has the form\n",
    "\n",
    "$$\\boldsymbol{\\phi}(\\boldsymbol{x}) = [\\kappa(\\boldsymbol{x},\\boldsymbol{\\mu}_1), \\dots, \\kappa(\\boldsymbol{x},\\boldsymbol{\\mu}_K)]$$\n",
    "\n",
    "where $\\boldsymbol{\\mu}_k \\in \\mathcal{X}$ are a set of $K$ centroids. Here, for simplicity, we choose\n",
    "\n",
    "$$\\kappa(\\boldsymbol{x},\\boldsymbol{x}') = \\exp\\left(-\\frac{||\\boldsymbol{x}-\\boldsymbol{x}'||^2}{2\\sigma^2}\\right)$$\n",
    "\n",
    "where $\\boldsymbol{x}\\in \\mathbb{R}^D$, and $\\boldsymbol{\\mu}_k$ and $\\sigma$ are assumed to be given (although there are sensible ways to choose these in general). $\\kappa$ is called a **radial basis function** (RBF), and $\\boldsymbol{\\phi}(\\boldsymbol{x})$ a **kernelised feature vector**, and the model an **RBF network**. \n",
    "\n",
    "We will use the kernelised feature vector to do logistic regression by defining\n",
    "\n",
    "$$p(y|\\boldsymbol{x},\\boldsymbol{\\theta}) = \\text{Ber}(\\text{sigm}(\\boldsymbol{w}^T\\boldsymbol{\\phi}(\\boldsymbol{x})))$$ where $\\text{Ber}()$ is the probability mass function of the [Bernoulli distribution](https://en.wikipedia.org/wiki/Bernoulli_distribution) and $\\text{sigm}(z) = 1/(1+e^{-z})$ is a sigmoid function. This model offers us an easy way to generate non-linear decision boundaries.\n",
    "\n",
    "Based on Ch14 of Machine Learning: A Probabilistic Perspective\n",
    "\n",
    "Author: Juvid Aryaman"
   ]
  },
  {
   "cell_type": "code",
   "execution_count": 1,
   "metadata": {},
   "outputs": [],
   "source": [
    "import numpy as np\n",
    "import utls\n",
    "import matplotlib.pyplot as plt\n",
    "from sklearn.linear_model import LogisticRegression"
   ]
  },
  {
   "cell_type": "code",
   "execution_count": 2,
   "metadata": {},
   "outputs": [],
   "source": [
    "utls.reset_plots()"
   ]
  },
  {
   "cell_type": "markdown",
   "metadata": {},
   "source": [
    "## Generate data\n",
    "\n",
    "Make data from an XOR table\n",
    "\n",
    "|$x_1$ | $x_2$|$y$|\n",
    "|---|---|---|\n",
    "|0 | 0|0|\n",
    "|0 | 1|1|\n",
    "|1 | 0|1|\n",
    "|1 | 1|0|\n",
    "\n",
    "then scale $x_i$ and add some noise. We wish to classify the feature vector $\\boldsymbol{x} \\in \\mathbb{R}^2$ according to $y=\\text{XOR}(x_1,x_2)$. Note that even a 10th order polynomial struggles with this task (see Figure 14.2 of Murphy).\n"
   ]
  },
  {
   "cell_type": "code",
   "execution_count": 3,
   "metadata": {},
   "outputs": [],
   "source": [
    "n = 150\n",
    "x1 = np.random.binomial(1,p=0.5,size=n)\n",
    "x2 = np.random.binomial(1,p=0.5,size=n)\n",
    "y = x1 != x2 # XOR\n",
    "y_vals_all = y.astype(int)\n",
    "x1 = 5*(x1 + np.random.uniform(-0.3,0.3,size=n))\n",
    "x2 = 5*(x2 + np.random.uniform(-0.3,0.3,size=n))\n",
    "X = np.vstack((x1,x2)).transpose()\n",
    "\n",
    "# Train/test partition\n",
    "n_train = 100\n",
    "X_train = X[:n_train]\n",
    "y_vals_train = y_vals_all[:n_train]\n",
    "\n",
    "X_test = X[n_train:]\n",
    "y_vals_test = y_vals_all[n_train:]"
   ]
  },
  {
   "cell_type": "code",
   "execution_count": 4,
   "metadata": {},
   "outputs": [
    {
     "data": {
      "text/plain": [
       "Text(0, 0.5, '$x_2$')"
      ]
     },
     "execution_count": 4,
     "metadata": {},
     "output_type": "execute_result"
    },
    {
     "name": "stderr",
     "output_type": "stream",
     "text": [
      "/home/juvid/anaconda3/lib/python3.6/site-packages/matplotlib/font_manager.py:1238: UserWarning: findfont: Font family ['sans-serif'] not found. Falling back to DejaVu Sans.\n",
      "  (prop.get_family(), self.defaultFamily[fontext]))\n"
     ]
    },
    {
     "data": {
      "image/png": "[encoded data removed]",
      "text/plain": [
       "<Figure size 432x288 with 1 Axes>"
      ]
     },
     "metadata": {
      "needs_background": "light"
     },
     "output_type": "display_data"
    }
   ],
   "source": [
    "fig, ax = plt.subplots(1,1)\n",
    "ax.plot(X_train[y[:n_train],0],X_train[y[:n_train],1],'ro')\n",
    "ax.plot(X_train[~y[:n_train],0],X_train[~y[:n_train],1],'bx')\n",
    "utls.remove_tex_axis(ax,xtick_fmt=\"%.1f\",ytick_fmt=\"%.1f\")\n",
    "ax.set_xlabel('$x_1$')\n",
    "ax.set_ylabel('$x_2$')"
   ]
  },
  {
   "cell_type": "markdown",
   "metadata": {},
   "source": [
    "## RBF Network kernel machine\n",
    "\n",
    "Use an RBF network kernel machine to make a simple non-linear classifier"
   ]
  },
  {
   "cell_type": "code",
   "execution_count": 5,
   "metadata": {},
   "outputs": [],
   "source": [
    "def RBF_kernel(x1,x2,sigma):\n",
    "    \"\"\"\n",
    "    Radial basis function kernel\n",
    "    \n",
    "    Params\n",
    "    -------\n",
    "    x1 : A numpy array of length D\n",
    "    x2 : A numpy array of length D\n",
    "    sigma : A double, the bandwidth of the kernel\n",
    "    \n",
    "    Returns\n",
    "    ---------\n",
    "    RBF(x1,x2)\n",
    "    \"\"\"\n",
    "    return np.exp(-np.dot((x1-x2),(x1-x2))/(2*sigma*sigma))"
   ]
  },
  {
   "cell_type": "markdown",
   "metadata": {},
   "source": [
    "Assume the centroids $\\boldsymbol{\\mu}_k$ are known, as well as $\\sigma$"
   ]
  },
  {
   "cell_type": "code",
   "execution_count": 6,
   "metadata": {},
   "outputs": [],
   "source": [
    "mu = np.array([[0,0],[0,5],[5,0],[5,5]]) # define 4 centroids. These are parameters of the model"
   ]
  },
  {
   "cell_type": "markdown",
   "metadata": {},
   "source": [
    "Make the kernelised feature vector"
   ]
  },
  {
   "cell_type": "code",
   "execution_count": 7,
   "metadata": {},
   "outputs": [
    {
     "data": {
      "text/plain": [
       "(0.12803097565373578,\n",
       " 0.24859775218248475,\n",
       " 1.1068117536390567e-17,\n",
       " 0.9995580496118893)"
      ]
     },
     "execution_count": 7,
     "metadata": {},
     "output_type": "execute_result"
    }
   ],
   "source": [
    "sigma = 1.0\n",
    "phi_train = []\n",
    "for i in range(4):\n",
    "    phi_train.append([RBF_kernel(xi, mu[i], sigma) for xi in X_train])\n",
    "phi_train = np.array(phi_train).transpose() # kernelised feature vector\n",
    "phi_train.mean(), phi_train.std(ddof=1), phi_train.min(), phi_train.max()"
   ]
  },
  {
   "cell_type": "code",
   "execution_count": 8,
   "metadata": {},
   "outputs": [
    {
     "data": {
      "text/plain": [
       "(100, 4)"
      ]
     },
     "execution_count": 8,
     "metadata": {},
     "output_type": "execute_result"
    }
   ],
   "source": [
    "phi_train.shape"
   ]
  },
  {
   "cell_type": "markdown",
   "metadata": {},
   "source": [
    "Perform logistic regression on the kernelised feature vector"
   ]
  },
  {
   "cell_type": "code",
   "execution_count": 9,
   "metadata": {},
   "outputs": [],
   "source": [
    "clf = LogisticRegression(random_state=0, solver='lbfgs',\n",
    "                         multi_class='ovr').fit(phi_train, y_vals_train)"
   ]
  },
  {
   "cell_type": "markdown",
   "metadata": {},
   "source": [
    "Test the model with `X_test`"
   ]
  },
  {
   "cell_type": "code",
   "execution_count": 10,
   "metadata": {},
   "outputs": [
    {
     "data": {
      "text/plain": [
       "(50, 4)"
      ]
     },
     "execution_count": 10,
     "metadata": {},
     "output_type": "execute_result"
    }
   ],
   "source": [
    "phi_test = []\n",
    "for i in range(4):\n",
    "    phi_test.append([RBF_kernel(xi, mu[i], sigma) for xi in X_test])\n",
    "phi_test = np.array(phi_test).transpose() # kernelised feature vector\n",
    "phi_test.shape"
   ]
  },
  {
   "cell_type": "code",
   "execution_count": 11,
   "metadata": {},
   "outputs": [
    {
     "data": {
      "text/plain": [
       "(50,)"
      ]
     },
     "execution_count": 11,
     "metadata": {},
     "output_type": "execute_result"
    }
   ],
   "source": [
    "y_pred = clf.predict(phi_test)\n",
    "y_pred.shape"
   ]
  },
  {
   "cell_type": "code",
   "execution_count": 12,
   "metadata": {},
   "outputs": [],
   "source": [
    "y_pred = y_pred.astype(bool)"
   ]
  },
  {
   "cell_type": "code",
   "execution_count": 13,
   "metadata": {},
   "outputs": [
    {
     "data": {
      "image/png": "[encoded data removed]",
      "text/plain": [
       "<Figure size 720x360 with 2 Axes>"
      ]
     },
     "metadata": {
      "needs_background": "light"
     },
     "output_type": "display_data"
    }
   ],
   "source": [
    "fig, axs = plt.subplots(1,2, figsize=(5*2,5))\n",
    "axs = axs.ravel()\n",
    "\n",
    "ax = axs[0]\n",
    "ax.plot(X_test[y[n_train:],0],X_test[y[n_train:],1],'ro')\n",
    "ax.plot(X_test[~y[n_train:],0],X_test[~y[n_train:],1],'bx')\n",
    "utls.remove_tex_axis(ax,xtick_fmt=\"%.1f\",ytick_fmt=\"%.1f\")\n",
    "ax.set_xlabel('$x_1$')\n",
    "ax.set_ylabel('$x_2$')\n",
    "ax.set_title('Test data (ground truth)')\n",
    "\n",
    "ax = axs[1]\n",
    "ax.plot(X_test[y_pred,0],X_test[y_pred,1],'ro')\n",
    "ax.plot(X_test[~y_pred,0],X_test[~y_pred,1],'bx')\n",
    "utls.remove_tex_axis(ax,xtick_fmt=\"%.1f\",ytick_fmt=\"%.1f\")\n",
    "ax.set_xlabel('$x_1$')\n",
    "ax.set_ylabel('$x_2$')\n",
    "ax.set_title('Test data (prediction, $\\sigma = {}$)'.format(sigma))\n",
    "\n",
    "plt.tight_layout()"
   ]
  }
 ],
 "metadata": {
  "kernelspec": {
   "display_name": "Python 3",
   "language": "python",
   "name": "python3"
  },
  "language_info": {
   "codemirror_mode": {
    "name": "ipython",
    "version": 3
   },
   "file_extension": ".py",
   "mimetype": "text/x-python",
   "name": "python",
   "nbconvert_exporter": "python",
   "pygments_lexer": "ipython3",
   "version": "3.6.6"
  }
 },
 "nbformat": 4,
 "nbformat_minor": 2
}
