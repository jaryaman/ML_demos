{
 "cells": [
  {
   "cell_type": "markdown",
   "metadata": {},
   "source": [
    "# Doing Do-calculus"
   ]
  },
  {
   "cell_type": "markdown",
   "metadata": {},
   "source": [
    "In 2006, [Shpitser and Pearl](https://ftp.cs.ucla.edu/pub/stat_ser/r327.pdf) established an algorithm for identifying causal effects with unobserved latent variables given a causal graph. A causal effect $P(y|\\hat{x})$ (where $\\hat{x}=do(x)$ denotes a causal intervention setting the random variable $X=x$) is **identifiable** if it can be written down in terms of observed \"hat-free\" variables.\n",
    "\n",
    "In 2017, [Tikka and Karvanen](https://arxiv.org/abs/1806.07161) implemented this algorithm in the R package `causaleffect`. "
   ]
  },
  {
   "cell_type": "markdown",
   "metadata": {},
   "source": [
    "This Jupyter notebook runs in R, and uses `causaleffect`. You can set up an R jupyter notebook by following the instructions [here](https://docs.anaconda.com/anaconda/user-guide/tasks/using-r-language/)."
   ]
  },
  {
   "cell_type": "markdown",
   "metadata": {},
   "source": [
    "## Installation of `causaleffect`"
   ]
  },
  {
   "cell_type": "markdown",
   "metadata": {},
   "source": [
    "For first time installation of `causaleffect`, uncomment and run this cell."
   ]
  },
  {
   "cell_type": "code",
   "execution_count": 1,
   "metadata": {},
   "outputs": [],
   "source": [
    "# install.packages(\"BiocManager\")\n",
    "# library(BiocManager)\n",
    "# BiocManager::install(\"graph\")\n",
    "# install.packages(\"ggm\")\n",
    "\n",
    "# install.packages(\"causaleffect\", dependencies = TRUE)"
   ]
  },
  {
   "cell_type": "code",
   "execution_count": 2,
   "metadata": {},
   "outputs": [],
   "source": [
    "options(repr.plot.width=6, repr.plot.height=4)"
   ]
  },
  {
   "cell_type": "code",
   "execution_count": 3,
   "metadata": {},
   "outputs": [
    {
     "name": "stderr",
     "output_type": "stream",
     "text": [
      "\n",
      "Attaching package: ‘causaleffect’\n",
      "\n",
      "The following object is masked from ‘package:utils’:\n",
      "\n",
      "    recover\n",
      "\n",
      "\n",
      "Attaching package: ‘igraph’\n",
      "\n",
      "The following objects are masked from ‘package:stats’:\n",
      "\n",
      "    decompose, spectrum\n",
      "\n",
      "The following object is masked from ‘package:base’:\n",
      "\n",
      "    union\n",
      "\n"
     ]
    }
   ],
   "source": [
    "library(\"causaleffect\")\n",
    "library(\"igraph\")"
   ]
  },
  {
   "cell_type": "markdown",
   "metadata": {},
   "source": [
    "## A simple example of an identifiable causal effect"
   ]
  },
  {
   "cell_type": "markdown",
   "metadata": {},
   "source": [
    "The DAG below is an example of a causal graph where the causal effect $P(y|\\hat{x})$ **is** identifiable (see Section 3.5.1 of Pearl's *Causality*)\n",
    "\n",
    "<img src=\"Figures/identifiable.jpg\" width=\"200\" height=\"300\"> \n",
    "\n",
    "Solid arrows denote a cause $\\rightarrow$ effect relationship. The dashed double-headed arrow denotes an unobserved common cause. In `causaleffect`, we denote unobserved common causes with bidirected edges, and give them an attribue `\"U\"` with `set.edge.attribute`."
   ]
  },
  {
   "cell_type": "markdown",
   "metadata": {},
   "source": [
    "Construct the DAG"
   ]
  },
  {
   "cell_type": "code",
   "execution_count": 4,
   "metadata": {},
   "outputs": [],
   "source": [
    "dag <- graph.formula(Z-+X, X-+Y, Z-+Y, Z-+Y, Y-+Z, simplify=FALSE)"
   ]
  },
  {
   "cell_type": "markdown",
   "metadata": {},
   "source": [
    "Mark edges which are unobserved"
   ]
  },
  {
   "cell_type": "code",
   "execution_count": 5,
   "metadata": {},
   "outputs": [],
   "source": [
    "dag <- set.edge.attribute(graph=dag, name = \"description\", index=c(4,5), value=\"U\")"
   ]
  },
  {
   "cell_type": "code",
   "execution_count": 6,
   "metadata": {},
   "outputs": [
    {
     "data": {
      "image/png": "[encoded data removed]",
      "text/plain": [
       "Plot with title “”"
      ]
     },
     "metadata": {},
     "output_type": "display_data"
    }
   ],
   "source": [
    "plot(dag)"
   ]
  },
  {
   "cell_type": "markdown",
   "metadata": {},
   "source": [
    "Compute the causal effect $P(y|\\hat{x})$"
   ]
  },
  {
   "cell_type": "code",
   "execution_count": 7,
   "metadata": {},
   "outputs": [],
   "source": [
    "ce <- causal.effect(x=\"X\", y=\"Y\", z=NULL, G=dag, expr=TRUE)"
   ]
  },
  {
   "cell_type": "code",
   "execution_count": 8,
   "metadata": {},
   "outputs": [
    {
     "name": "stdout",
     "output_type": "stream",
     "text": [
      "\\sum_{Z}P(Y|Z,X)P(Z)"
     ]
    }
   ],
   "source": [
    "cat(ce)"
   ]
  },
  {
   "cell_type": "markdown",
   "metadata": {},
   "source": [
    "So the causal effect is\n",
    "\n",
    "$$P(y|\\hat{x}) = \\sum_{Z}P(Y|Z,X)P(Z)$$\n",
    "\n",
    "in agreement with Section 3.5.1 of Pearl's *Causality* -- this is a simple application [back-door adjustment](https://github.com/jaryaman/causal-inference-cheat-sheet/)."
   ]
  },
  {
   "cell_type": "markdown",
   "metadata": {},
   "source": [
    "## A simple example of a non-identifiable causal effect"
   ]
  },
  {
   "cell_type": "markdown",
   "metadata": {},
   "source": [
    "The DAG below is an example of a causal graph where the causal effect $P(y|\\hat{x})$ **is not** identifiable (see Section 3.5.2 of Pearl's *Causality*)\n",
    "\n",
    "<img src=\"Figures/unidentifiable.jpg\" width=\"200\" height=\"300\"> \n",
    "\n",
    "A sufficient condition for unidentifiability is the existence of a confounding arc between the cause and any of its children, where those children are ancestors of the effect."
   ]
  },
  {
   "cell_type": "markdown",
   "metadata": {},
   "source": [
    "Let's see if `causaleffect` can verify that this causal effect is indeed unidentifiable"
   ]
  },
  {
   "cell_type": "code",
   "execution_count": 9,
   "metadata": {},
   "outputs": [],
   "source": [
    "dag <- graph.formula(X-+Z, Z-+Y, X-+Z, Z-+X, simplify=FALSE)\n",
    "dag <- set.edge.attribute(graph=dag, name = \"description\", index=c(3,4), value=\"U\")"
   ]
  },
  {
   "cell_type": "code",
   "execution_count": 10,
   "metadata": {},
   "outputs": [
    {
     "data": {
      "image/png": "[encoded data removed]",
      "text/plain": [
       "Plot with title “”"
      ]
     },
     "metadata": {},
     "output_type": "display_data"
    }
   ],
   "source": [
    "plot(dag)"
   ]
  },
  {
   "cell_type": "code",
   "execution_count": 11,
   "metadata": {},
   "outputs": [
    {
     "ename": "ERROR",
     "evalue": "Error: Not identifiable.\n",
     "output_type": "error",
     "traceback": [
      "Error: Not identifiable.\nTraceback:\n",
      "1. causal.effect(x = \"X\", y = \"Y\", z = NULL, G = dag, expr = TRUE)",
      "2. stop(\"Not identifiable.\", call. = FALSE)"
     ]
    }
   ],
   "source": [
    "ce <- causal.effect(x=\"X\", y=\"Y\", z=NULL, G=dag, expr=TRUE)"
   ]
  },
  {
   "cell_type": "markdown",
   "metadata": {},
   "source": [
    "Great! So `causaleffect` has verified that the causal effect is unidentifiable."
   ]
  },
  {
   "cell_type": "markdown",
   "metadata": {},
   "source": [
    "## Direct effects: sex discrimination in college admission"
   ]
  },
  {
   "cell_type": "markdown",
   "metadata": {},
   "source": [
    "The following example is taken from Section 4.5.3 of Pearl's *Causality*, based on a case of alleged sex bias in graduate admissions at Berkeley [(Bickel et al. 1975)](https://science.sciencemag.org/content/187/4175/398)"
   ]
  },
  {
   "cell_type": "markdown",
   "metadata": {},
   "source": [
    "<img src=\"Figures/berkeley.jpg\" width=\"500\" height=\"300\"> \n"
   ]
  },
  {
   "cell_type": "code",
   "execution_count": 12,
   "metadata": {},
   "outputs": [],
   "source": [
    "admissions <- graph.formula(X1 -+ Z, X1 -+ X2, X1 -+ Y, Z -+ X2, X2 -+ Y, Z -+ Y, Y -+ Z, simplify=FALSE)"
   ]
  },
  {
   "cell_type": "markdown",
   "metadata": {},
   "source": [
    "Note that we do not directly encode $U$ here because applicant aptitude was not recorded. Rather, we represent this unobserved latent variable as a bidirected, unobserved, edge"
   ]
  },
  {
   "cell_type": "code",
   "execution_count": 14,
   "metadata": {},
   "outputs": [],
   "source": [
    "admissions <- set.edge.attribute(graph=admissions, name=\"description\", index=c(6, 7), value=\"U\")"
   ]
  },
  {
   "cell_type": "code",
   "execution_count": 15,
   "metadata": {},
   "outputs": [
    {
     "data": {
      "image/png": "[encoded data removed]",
      "text/plain": [
       "Plot with title “”"
      ]
     },
     "metadata": {},
     "output_type": "display_data"
    }
   ],
   "source": [
    "plot(admissions)"
   ]
  },
  {
   "cell_type": "markdown",
   "metadata": {},
   "source": [
    "Say we are interested in the direct effect of $X_1$ on $Y$. The direct effect of $X$ pn $Y$ is given by \n",
    "\n",
    "$$P(y|\\hat{x}, \\hat{pa}_{Y\\setminus X})$$\n",
    "\n",
    "where $Y\\setminus X$ is any realization of the parents of $Y$ excluding $X$.\n",
    "\n",
    "In this case, the direct effect of $X_1$ on $Y$ is $P(y|\\hat{x_1}, \\hat{x_2})$."
   ]
  },
  {
   "cell_type": "code",
   "execution_count": 18,
   "metadata": {},
   "outputs": [],
   "source": [
    "ce <- causal.effect(x=c(\"X1\",\"X2\"), y=\"Y\", z=NULL, G=admissions, expr=TRUE)"
   ]
  },
  {
   "cell_type": "code",
   "execution_count": 19,
   "metadata": {},
   "outputs": [
    {
     "name": "stdout",
     "output_type": "stream",
     "text": [
      "\\sum_{Z}P(Y|X1,Z,X2)P(Z|X1)"
     ]
    }
   ],
   "source": [
    "cat(ce)"
   ]
  },
  {
   "cell_type": "markdown",
   "metadata": {},
   "source": [
    "The direct effect of $X_1$ on $Y$ is therefore\n",
    "\n",
    "$$P(y|\\hat{x}_1, \\hat{x}_2) = \\sum_{Z}P(Y|X1,Z,X2)P(Z|X1)$$\n",
    "\n",
    "in agreement with Section 4.5.3."
   ]
  },
  {
   "cell_type": "markdown",
   "metadata": {},
   "source": [
    "Notice that this is **quite different** to a naive adjustment for $X_2$ based on observational data, which might be\n",
    "\n",
    "$$p(y|x_1) = \\sum_{x_2} P(y|x_1,x_2)P(x_2) = E_{x_2} P(y|\\hat{x}_1, x_2)$$\n",
    "\n",
    "and a nice example of how a lack of awareness of causal reasoning when performing statistical analysis can result in erroneous conclusions."
   ]
  }
 ],
 "metadata": {
  "kernelspec": {
   "display_name": "R",
   "language": "R",
   "name": "ir"
  },
  "language_info": {
   "codemirror_mode": "r",
   "file_extension": ".r",
   "mimetype": "text/x-r-source",
   "name": "R",
   "pygments_lexer": "r",
   "version": "3.6.1"
  }
 },
 "nbformat": 4,
 "nbformat_minor": 4
}
