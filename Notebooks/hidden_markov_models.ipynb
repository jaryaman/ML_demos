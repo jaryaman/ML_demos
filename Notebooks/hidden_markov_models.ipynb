{
 "cells": [
  {
   "cell_type": "markdown",
   "metadata": {},
   "source": [
    "# Hidden Markov Models\n",
    "\n",
    "A hidden Markov model (HMM) consists of a discrete-time, discrete-state Markov chain, with hidden states $z_t \\in \\{1,...,K \\}$, where time $t=1,...,T$, as well as an observation model $p(\\boldsymbol{x}_t| z_t)$, where $\\boldsymbol{x}_t$ can be discrete or continuous. \n",
    "\n",
    "There are various inference problems in HMMs, including:\n",
    "\n",
    "- Filtering, where we compute $p(z_t|\\boldsymbol{x}_{1:t})$  \n",
    "- Smoothing, where we compute $p(z_t|\\boldsymbol{x}_{1:T})$\n",
    "- Fixed lag smoothing, $p(z_{t-l}|\\boldsymbol{x}_{1:t})$\n",
    "- Prediction, $p(z_{t+h}|\\boldsymbol{x}_{1:t})$\n",
    "- Maximum a posteriori prediction, $\\mathrm{arg max}_{\\boldsymbol{z}_{1:T}} p(\\boldsymbol{z}_{1:T}|\\boldsymbol{x}_{1:T})$\n",
    "- Posterior samples, $\\boldsymbol{z}_{1:T} \\sim p(\\boldsymbol{z_{1:T}}|\\boldsymbol{x}_{1:T})$\n",
    "- Probability of the evidence, $p(\\boldsymbol{x}_{1:T})$\n",
    "\n",
    "Based on Ch17 of Murphy's Machine Learning: A Probabilistic Perspective\n",
    "\n",
    "Author: Juvid Aryaman"
   ]
  },
  {
   "cell_type": "code",
   "execution_count": 1,
   "metadata": {},
   "outputs": [],
   "source": [
    "import mystyle.sty as sty # see https://github.com/jaryaman/mystyle\n",
    "import numpy as np\n",
    "import matplotlib.pyplot as plt\n",
    "import scipy.stats as ss"
   ]
  },
  {
   "cell_type": "code",
   "execution_count": 2,
   "metadata": {},
   "outputs": [],
   "source": [
    "sty.reset_plots()\n",
    "sty.update_functions_on_fly()\n",
    "sty.ignore_warnings_all()"
   ]
  },
  {
   "cell_type": "markdown",
   "metadata": {},
   "source": [
    "## Occasionally dishonest casino\n",
    "\n",
    "For an example of an HMM, let's consider the occasionally dishonest casino. In this case, $x_t \\in {1,2,...,6}$ represents the roll of a die, and $z_t$ represents the identity of the die being used. If the die is currently fair, on the next roll there is a 5% chance the casino swaps the die for a loaded die. If the die is currently unfair, on the next roll there is a 10% chance the casino swaps the die back to the fair die. The unfair die rolls a 6 with 50% probability, with all other faces having equal probability. "
   ]
  },
  {
   "cell_type": "markdown",
   "metadata": {},
   "source": [
    "![](./Figures/ODC.png)"
   ]
  },
  {
   "cell_type": "markdown",
   "metadata": {},
   "source": [
    "The state of the die is hidden from us, we only know the die roll values. Whilst playing in the casino, we may wish to e.g. predict the chance that the die is fair given all the rolls up to now. This would be an example of filtering."
   ]
  },
  {
   "cell_type": "markdown",
   "metadata": {},
   "source": [
    "### Make synthetic data"
   ]
  },
  {
   "cell_type": "markdown",
   "metadata": {},
   "source": [
    "We can model the number of consecutive rolls with the current die using a negative binomial distribution. \n",
    "\n",
    "The negative binomial distribution describes a sequence of ($k$) i.i.d. Bernoulli trials, repeated until a predefined, non-random number of successes ($n$) occurs and $p$ is the probability of a single success\n",
    "\n",
    "$$f(k) = \\binom{k+n-1}{n-1} p^n (1-p)^k$$\n",
    "\n",
    "So let success = leaving the state we're currently in. This is either 0.05 (fair die) or 0.1 (unfair die)."
   ]
  },
  {
   "cell_type": "code",
   "execution_count": 3,
   "metadata": {},
   "outputs": [],
   "source": [
    "def bit_vector_to_die_value(x):\n",
    "    return np.argmax(x) + 1"
   ]
  },
  {
   "cell_type": "code",
   "execution_count": 4,
   "metadata": {},
   "outputs": [],
   "source": [
    "np.random.seed(12345)\n",
    "fair_probs = np.ones(6)/6\n",
    "unfair_probs = np.hstack((np.ones(5)/10,0.5))\n",
    "\n",
    "nswaps = 11\n",
    "\n",
    "die_outcomes = np.array([])\n",
    "\n",
    "n_rolls_fair_arr = []\n",
    "n_rolls_unfair_arr = []\n",
    "\n",
    "# Inititalise in fair state\n",
    "for i in range(nswaps):\n",
    "    # When we land in the state, we roll first, then decide to transition. Hence add 1.\n",
    "    n_rolls_fair = ss.nbinom.rvs(1,0.05) + 1 \n",
    "    n_rolls_fair_arr.append(n_rolls_fair)\n",
    "    bits_fair = ss.multinomial.rvs(n=1, p=fair_probs, size=n_rolls_fair)\n",
    "    die_vals_fair = np.apply_along_axis(bit_vector_to_die_value,1,bits_fair)\n",
    "    die_outcomes = np.append(die_outcomes,die_vals_fair)\n",
    "    \n",
    "    n_rolls_unfair = ss.nbinom.rvs(1,0.1) + 1\n",
    "    n_rolls_unfair_arr.append(n_rolls_unfair)\n",
    "    bits_unfair = ss.multinomial.rvs(n=1, p= unfair_probs, size=n_rolls_unfair)\n",
    "    die_vals_unfair = np.apply_along_axis(bit_vector_to_die_value,1,bits_unfair)\n",
    "    die_outcomes = np.append(die_outcomes,die_vals_unfair)\n",
    "die_outcomes = die_outcomes.astype(int)    "
   ]
  },
  {
   "cell_type": "markdown",
   "metadata": {},
   "source": [
    "## Forward algorithm\n",
    "\n",
    "We wish to compute the (filtered) **belief state** $p(z_t|\\boldsymbol{x}_{1:t})$ through repeated application of Bayes rule. Let's suppose we know the following quantities about the system:\n",
    "\n",
    "- Transition matrix $\\Psi(i,j) = p(z_t=j|z_{t-1}=i)$\n",
    "- Local evidence vectors: $\\psi_t(j) = p(x_t|z_t=j)$ \n",
    "- Initial belief of the state distribution: $\\pi(j) = p(z_1=j)$ \n",
    "\n",
    "Now, Bayes rule states\n",
    "\n",
    "$$P(B|A) = \\frac{P(A|B) P(B)}{P(A)}.$$\n",
    "\n",
    "Then,\n",
    "\n",
    "$$p(z_t=j|\\boldsymbol{x}_{1:t}) = p(z_t=j|x_t, \\boldsymbol{x}_{1:t-1}) = \\frac{p(x_t|z_t=j, \\boldsymbol{x}_{1:t-1}) p(z_t=j|\\boldsymbol{x}_{1:t-1})}{p(x_t|\\boldsymbol{x}_{1:t-1})}.$$\n",
    "\n",
    "But from conditional independence of the HMM, $p(x_t|z_t=j, \\boldsymbol{x}_{1:t-1}) = p(x_t|z_t=j) = \\psi_t(j)$. \n",
    "\n",
    "Let's define $Z_t$ and $\\alpha_t(j)$ as\n",
    "\n",
    "$$Z_t = p(x_t|\\boldsymbol{x}_{1:t-1}) = \\sum_j p(x_t|z_t=j)p(z_t=j|\\boldsymbol{x}_{1:t-1})$$\n",
    "\n",
    "$$\\alpha_t(j)=p(z_t=j|\\boldsymbol{x}_{1:t})=p(x_t|z_t=j) p(z_t=j|\\boldsymbol{x}_{1:t-1})/Z_t.$$ \n",
    "\n",
    "Then,\n",
    "\n",
    "$$ p(z_t=j|\\boldsymbol{x}_{1:t-1}) = \\sum_i p(z_t=j|z_{t-1}=i) p(z_{t-1}=i|\\boldsymbol{x}_{1:t-1}) = \\sum_i \\Psi(i,j) \\alpha_{t-1}(i).$$\n",
    "\n",
    "Therefore, we arrive at the **update rule** for the forward algorithm:\n",
    "\n",
    "$$\\boldsymbol{\\alpha}_t \\propto \\boldsymbol{\\psi}_t \\odot \\boldsymbol{\\Psi}^T \\boldsymbol{\\alpha}_{t-1}$$\n",
    "\n",
    "where $\\odot$ denotes an element-wise product (Hadamard product). Hence we may compute $\\boldsymbol{\\alpha}_t$ at every time step by normalising $\\boldsymbol{\\psi}_t \\odot \\boldsymbol{\\Psi}^T \\boldsymbol{\\alpha}_{t-1}$. "
   ]
  },
  {
   "cell_type": "code",
   "execution_count": 5,
   "metadata": {},
   "outputs": [],
   "source": [
    "transition_matrix_trans = np.array([[0.95, 0.05], [0.1, 0.9]]).T\n",
    "local_evidence = np.vstack((fair_probs,unfair_probs)).T\n",
    "\n",
    "# Initial prior as the steady-state distribution of the Markov chain\n",
    "w, v = np.linalg.eig(transition_matrix_trans)\n",
    "ev = v[:,np.argmax(w==1)]\n",
    "initial_state_distn = ev/ev.sum()"
   ]
  },
  {
   "cell_type": "code",
   "execution_count": 6,
   "metadata": {},
   "outputs": [],
   "source": [
    "t_final = len(die_outcomes)"
   ]
  },
  {
   "cell_type": "code",
   "execution_count": 7,
   "metadata": {},
   "outputs": [
    {
     "data": {
      "text/plain": [
       "array([0.76923077, 0.23076923])"
      ]
     },
     "execution_count": 7,
     "metadata": {},
     "output_type": "execute_result"
    }
   ],
   "source": [
    "alpha_t = local_evidence[die_outcomes[0]-1,:] * np.dot(transition_matrix_trans, initial_state_distn)\n",
    "Z_t = np.sum(alpha_t)\n",
    "alpha_t = alpha_t/Z_t\n",
    "alpha_t"
   ]
  },
  {
   "cell_type": "code",
   "execution_count": 8,
   "metadata": {},
   "outputs": [],
   "source": [
    "alpha_t_all = np.zeros((t_final,2))\n",
    "alpha_t_all[0,:] = alpha_t\n",
    "\n",
    "Z_t_all = np.zeros(t_final)\n",
    "Z_t_all[0] = Z_t"
   ]
  },
  {
   "cell_type": "code",
   "execution_count": 9,
   "metadata": {},
   "outputs": [],
   "source": [
    "for i in range(1,t_final):\n",
    "    alpha_t_old = alpha_t_all[i-1,:]\n",
    "    \n",
    "    alpha_t = local_evidence[die_outcomes[i]-1,:] * np.dot(transition_matrix_trans, alpha_t_old)\n",
    "    Z_t = np.sum(alpha_t)\n",
    "    alpha_t = alpha_t/Z_t\n",
    "    \n",
    "    alpha_t_all[i,:] = alpha_t\n",
    "    Z_t_all[i] = Z_t"
   ]
  },
  {
   "cell_type": "code",
   "execution_count": 10,
   "metadata": {},
   "outputs": [
    {
     "data": {
      "image/png": "[encoded data removed]",
      "text/plain": [
       "<Figure size 432x288 with 1 Axes>"
      ]
     },
     "metadata": {
      "needs_background": "light"
     },
     "output_type": "display_data"
    }
   ],
   "source": [
    "fig, ax = plt.subplots()\n",
    "ax.plot(np.arange(t_final),alpha_t_all[:,0],'-k')\n",
    "\n",
    "left=0\n",
    "for i, nrolls in enumerate(n_rolls_fair_arr):\n",
    "    if i == 0:\n",
    "        ax.fill_between([left, left+nrolls],[0,0],[1,1],color='blue',\n",
    "                    alpha=0.5, label='Fair')\n",
    "    else:\n",
    "        ax.fill_between([left, left+nrolls],[0,0],[1,1],color='blue',\n",
    "                    alpha=0.5)\n",
    "    left = left + nrolls + n_rolls_unfair_arr[i]\n",
    "sty.legend_outside(ax)\n",
    "sty.remove_tex_axis(ax, ytick_fmt=\"%.2f\")\n",
    "    \n",
    "ax.set_xlabel('Roll number, $t$')\n",
    "ax.set_ylabel(r'Belief die is fair,$p(z_t=0|\\boldsymbol{x}_{1:t})$');"
   ]
  },
  {
   "cell_type": "markdown",
   "metadata": {},
   "source": [
    "Blue shaded regions denote samples that were generated using a fair die. The black line is our belief that the die is fair."
   ]
  }
 ],
 "metadata": {
  "kernelspec": {
   "display_name": "Python 3",
   "language": "python",
   "name": "python3"
  },
  "language_info": {
   "codemirror_mode": {
    "name": "ipython",
    "version": 3
   },
   "file_extension": ".py",
   "mimetype": "text/x-python",
   "name": "python",
   "nbconvert_exporter": "python",
   "pygments_lexer": "ipython3",
   "version": "3.6.8"
  }
 },
 "nbformat": 4,
 "nbformat_minor": 2
}
