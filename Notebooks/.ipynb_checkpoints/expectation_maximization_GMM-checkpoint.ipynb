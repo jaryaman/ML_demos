{
 "cells": [
  {
   "cell_type": "markdown",
   "metadata": {},
   "source": [
    "# Expectation maximization algorithm\n",
    "\n",
    "To compute maximum likelihood fit for a mixture of Gaussians model on the Old Faithful dataset using EM\n",
    "\n",
    "$p(x_i|\\theta) = \\sum_k p(x_i, z_i = k | \\theta) = \\sum_k p(x_i| z_i = k, \\theta) p(z_i=k|\\theta) $ \n",
    "\n",
    "Author: Juvid Aryaman\n"
   ]
  },
  {
   "cell_type": "code",
   "execution_count": 1,
   "metadata": {
    "collapsed": true
   },
   "outputs": [],
   "source": [
    "import numpy as np\n",
    "import pandas as pd\n",
    "import matplotlib.pyplot as plt\n",
    "import matplotlib as mpl\n",
    "from pdb import set_trace\n",
    "\n",
    "%matplotlib inline\n"
   ]
  },
  {
   "cell_type": "code",
   "execution_count": 2,
   "metadata": {
    "collapsed": true
   },
   "outputs": [],
   "source": [
    "from scipy.stats import multivariate_normal"
   ]
  },
  {
   "cell_type": "code",
   "execution_count": 3,
   "metadata": {},
   "outputs": [
    {
     "data": {
      "text/html": [
       "<div>\n",
       "<table border=\"1\" class=\"dataframe\">\n",
       "  <thead>\n",
       "    <tr style=\"text-align: right;\">\n",
       "      <th></th>\n",
       "      <th>e</th>\n",
       "      <th>w</th>\n",
       "    </tr>\n",
       "  </thead>\n",
       "  <tbody>\n",
       "    <tr>\n",
       "      <th>0</th>\n",
       "      <td>0.098318</td>\n",
       "      <td>0.596025</td>\n",
       "    </tr>\n",
       "    <tr>\n",
       "      <th>1</th>\n",
       "      <td>-1.478733</td>\n",
       "      <td>-1.242890</td>\n",
       "    </tr>\n",
       "    <tr>\n",
       "      <th>2</th>\n",
       "      <td>-0.135612</td>\n",
       "      <td>0.228242</td>\n",
       "    </tr>\n",
       "    <tr>\n",
       "      <th>3</th>\n",
       "      <td>-1.055558</td>\n",
       "      <td>-0.654437</td>\n",
       "    </tr>\n",
       "    <tr>\n",
       "      <th>4</th>\n",
       "      <td>0.915755</td>\n",
       "      <td>1.037364</td>\n",
       "    </tr>\n",
       "  </tbody>\n",
       "</table>\n",
       "</div>"
      ],
      "text/plain": [
       "          e         w\n",
       "0  0.098318  0.596025\n",
       "1 -1.478733 -1.242890\n",
       "2 -0.135612  0.228242\n",
       "3 -1.055558 -0.654437\n",
       "4  0.915755  1.037364"
      ]
     },
     "execution_count": 3,
     "metadata": {},
     "output_type": "execute_result"
    }
   ],
   "source": [
    "data = pd.read_csv('faithful.csv', delimiter=',')\n",
    "data.columns=['e','w']\n",
    "# z-transform data\n",
    "data['e'] = (data['e'] - data['e'].mean())/data['e'].std(ddof=1)\n",
    "data['w'] = (data['w'] - data['w'].mean())/data['w'].std(ddof=1)\n",
    "data.head()"
   ]
  },
  {
   "cell_type": "code",
   "execution_count": 4,
   "metadata": {
    "collapsed": true
   },
   "outputs": [],
   "source": [
    "param_traj = []"
   ]
  },
  {
   "cell_type": "code",
   "execution_count": 5,
   "metadata": {},
   "outputs": [
    {
     "data": {
      "text/plain": [
       "[<matplotlib.lines.Line2D at 0x7fd269359210>]"
      ]
     },
     "execution_count": 5,
     "metadata": {},
     "output_type": "execute_result"
    },
    {
     "data": {
      "image/png": "[encoded data removed]",
      "text/plain": [
       "<matplotlib.figure.Figure at 0x7fd23481dd10>"
      ]
     },
     "metadata": {},
     "output_type": "display_data"
    }
   ],
   "source": [
    "plt.plot(data['e'],data['w'],'.k')"
   ]
  },
  {
   "cell_type": "code",
   "execution_count": 6,
   "metadata": {
    "collapsed": true
   },
   "outputs": [],
   "source": [
    "def compute_expected_sufficient_statistic(data,params):\n",
    "    \n",
    "    lik0 = multivariate_normal.pdf(data,mean=params['mu0'], cov=params['sig0'])\n",
    "    lik1 = multivariate_normal.pdf(data,mean=params['mu1'], cov=params['sig1'])\n",
    "    \n",
    "    rik=np.array(zip(lik0, lik1))\n",
    "\n",
    "    den = rik[:,0]*params['pi0'] + rik[:,1]*params['pi1']\n",
    "\n",
    "    rik[:,0] = rik[:,0]*params['pi0']/den\n",
    "    rik[:,1] = rik[:,1]*params['pi1']/den\n",
    "    \n",
    "    return rik # weighted probability data point xi belongs to cluster k\n",
    "    \n",
    "    "
   ]
  },
  {
   "cell_type": "code",
   "execution_count": 9,
   "metadata": {
    "collapsed": true
   },
   "outputs": [],
   "source": [
    "def elementwise_mean(row, k, rik):\n",
    "    i = row.name\n",
    "    xi = row.values\n",
    "    m = rik[i,k] * xi\n",
    "    return pd.Series({'m0':m[0],\n",
    "                     'm1':m[1]})"
   ]
  },
  {
   "cell_type": "code",
   "execution_count": 10,
   "metadata": {
    "collapsed": true
   },
   "outputs": [],
   "source": [
    "def elementwise_cov(row, k, rik):\n",
    "    i = row.name\n",
    "    xi = row.values\n",
    "    cov = rik[i,k] * np.outer(xi,xi)\n",
    "    return pd.Series({'e0':cov[0,0],\n",
    "                     'e1':cov[0,1],\n",
    "                     'e2':cov[1,0],\n",
    "                     'e3':cov[1,1]})\n",
    "    "
   ]
  },
  {
   "cell_type": "code",
   "execution_count": 7,
   "metadata": {},
   "outputs": [],
   "source": [
    "# Initialise parameter guess\n",
    "c_guess = np.eye(2)\n",
    "params = {'pi0':0.5,'pi1':0.5,'mu0':np.array([-1,1]),'mu1':np.array([1,-1]),'sig0':c_guess,'sig1':c_guess}\n",
    "\n",
    "params_ic = params.copy()"
   ]
  },
  {
   "cell_type": "code",
   "execution_count": 8,
   "metadata": {
    "collapsed": true
   },
   "outputs": [],
   "source": [
    "N = len(data)"
   ]
  },
  {
   "cell_type": "code",
   "execution_count": 11,
   "metadata": {
    "collapsed": true
   },
   "outputs": [],
   "source": [
    "n_iter = 50"
   ]
  },
  {
   "cell_type": "code",
   "execution_count": 12,
   "metadata": {},
   "outputs": [
    {
     "name": "stdout",
     "output_type": "stream",
     "text": [
      "0\n",
      "10\n",
      "20\n",
      "30\n",
      "40\n"
     ]
    }
   ],
   "source": [
    "for i in range(n_iter):\n",
    "    \n",
    "    if i % 10 == 0:\n",
    "        print(i)\n",
    "\n",
    "    # Compute expected sufficient statistics\n",
    "    # i.e. probability data point i is in cluster k given parameters\n",
    "\n",
    "    rik = compute_expected_sufficient_statistic(data,params) # (data index, probabilities)\n",
    "        \n",
    "    # Optimize expected complete data log likelihood w.r.t. parameters\n",
    "    rk = rik.sum(axis=0) # sum over data (rows)\n",
    "    \n",
    "    params['pi0'] = np.sum(rik[:,0])/N\n",
    "    params['pi1'] = np.sum(rik[:,1])/N \n",
    "    \n",
    "    for k in range(2): # clusters\n",
    "        # Means\n",
    "        means = data.apply(lambda x: elementwise_mean(x,k,rik), axis = 1).sum(axis=0)/rk[k]\n",
    "        means =  means.as_matrix()\n",
    "        params['mu{}'.format(k)] = means\n",
    "        \n",
    "        # Covariances\n",
    "        covs = data.apply(lambda x: elementwise_cov(x,k,rik), axis = 1) # apply to each row\n",
    "        cov_elements = covs.sum(axis=0).values.reshape((2,2))/rk[k] - np.outer(means, means)\n",
    "        params['sig{}'.format(k)] = cov_elements\n",
    "    \n",
    "    \n",
    "    "
   ]
  },
  {
   "cell_type": "code",
   "execution_count": 13,
   "metadata": {},
   "outputs": [
    {
     "data": {
      "text/plain": [
       "{'mu0': array([-1,  1]),\n",
       " 'mu1': array([ 1, -1]),\n",
       " 'pi0': 0.5,\n",
       " 'pi1': 0.5,\n",
       " 'sig0': array([[ 1.,  0.],\n",
       "        [ 0.,  1.]]),\n",
       " 'sig1': array([[ 1.,  0.],\n",
       "        [ 0.,  1.]])}"
      ]
     },
     "execution_count": 13,
     "metadata": {},
     "output_type": "execute_result"
    }
   ],
   "source": [
    "params_ic"
   ]
  },
  {
   "cell_type": "code",
   "execution_count": 14,
   "metadata": {},
   "outputs": [
    {
     "data": {
      "text/plain": [
       "{'mu0': array([-1.27156601, -1.20764336]),\n",
       " 'mu1': array([ 0.70260838,  0.66728769]),\n",
       " 'pi0': 0.35589985358737847,\n",
       " 'pi1': 0.64410014641262148,\n",
       " 'sig0': array([[ 0.05313457,  0.02807994],\n",
       "        [ 0.02807994,  0.18234186]]),\n",
       " 'sig1': array([[ 0.13041452,  0.06055793],\n",
       "        [ 0.06055793,  0.19497363]])}"
      ]
     },
     "execution_count": 14,
     "metadata": {},
     "output_type": "execute_result"
    }
   ],
   "source": [
    "params"
   ]
  },
  {
   "cell_type": "code",
   "execution_count": 15,
   "metadata": {},
   "outputs": [],
   "source": [
    "cmap = plt.cm.coolwarm"
   ]
  },
  {
   "cell_type": "code",
   "execution_count": 16,
   "metadata": {},
   "outputs": [
    {
     "data": {
      "image/png": "[encoded data removed]",
      "text/plain": [
       "<matplotlib.figure.Figure at 0x7fd22df7f690>"
      ]
     },
     "metadata": {},
     "output_type": "display_data"
    }
   ],
   "source": [
    "rik_orig = compute_expected_sufficient_statistic(data,params_ic)\n",
    "\n",
    "fig,axs = plt.subplots(1,2, figsize=(2*5,5))\n",
    "\n",
    "ax = axs[0]\n",
    "for row in data.iterrows():\n",
    "    i = row[0]\n",
    "    d = row[1]\n",
    "    ax.plot(d['e'],d['w'],'.',color=cmap(int(round(rik_orig[i,0]*cmap.N))))\n",
    "\n",
    "ax = axs[1]\n",
    "for row in data.iterrows():\n",
    "    i = row[0]\n",
    "    d = row[1]\n",
    "    ax.plot(d['e'],d['w'],'.',color=cmap(int(round(rik[i,0]*cmap.N))))\n",
    "\n"
   ]
  }
 ],
 "metadata": {
  "kernelspec": {
   "display_name": "Python 2",
   "language": "python",
   "name": "python2"
  },
  "language_info": {
   "codemirror_mode": {
    "name": "ipython",
    "version": 2
   },
   "file_extension": ".py",
   "mimetype": "text/x-python",
   "name": "python",
   "nbconvert_exporter": "python",
   "pygments_lexer": "ipython2",
   "version": "2.7.14"
  }
 },
 "nbformat": 4,
 "nbformat_minor": 2
}
