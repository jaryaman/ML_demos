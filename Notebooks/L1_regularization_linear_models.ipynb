{
 "cells": [
  {
   "cell_type": "markdown",
   "metadata": {},
   "source": [
    "# Regularization of linear models using L1 regularization\n",
    "\n",
    "Author: Juvid Aryaman\n",
    "\n",
    "We're interested in performing the regression problem\n",
    "\n",
    "$$\\mathbf{y}=\\mathbf{Xw}$$\n",
    "\n",
    "where $\\mathbf{X}$ is a matrix with $N$ rows (amount of data) and $D$ columns (number of dimensions). We're often interested in the case where $D > N$, so we do not want to use all of the available dimensions in our weight vector $\\mathbf{w}$. In order to do this, we penalize large weights. We can think of this as optimizing the following objective function\n",
    "\n",
    "$$f(\\mathbf{w})=||\\mathbf{y}-\\mathbf{Xw}||_2^2 + \\lambda ||\\mathbf{w}||_n$$\n",
    "\n",
    "where $n$ is the order of the norm of the vector. It turns out that when $n=1$, the solution $\\mathbf{w}$ is sparse. This is called a regularizer for the regression problem, and is often denoted as $l_n$. The sparsity property of $l_1$ regularizers can be appreciated using the simple example of $\\mathbf{w}_1=(1/\\sqrt{2},1/\\sqrt{2})$ versus $\\mathbf{w}_2=(1,0)$. Under an $l_2$ norm, both of these vectors have the same magnitude (1), but under an $l_1$ norm, $w_2$ is shorter than $w_1$.\n",
    "\n",
    "Based on Ch13 of Murphy, Machine Learning: A Probabilistic Perspective"
   ]
  },
  {
   "cell_type": "code",
   "execution_count": 1,
   "metadata": {},
   "outputs": [],
   "source": [
    "import numpy as np\n",
    "import matplotlib.pyplot as plt\n",
    "import utls\n",
    "import pandas as pd\n",
    "from sklearn.linear_model import Lasso\n",
    "from sklearn.model_selection import train_test_split"
   ]
  },
  {
   "cell_type": "code",
   "execution_count": 2,
   "metadata": {},
   "outputs": [],
   "source": [
    "%matplotlib inline\n",
    "utls.reset_plots()"
   ]
  },
  {
   "cell_type": "code",
   "execution_count": 3,
   "metadata": {},
   "outputs": [
    {
     "data": {
      "text/html": [
       "<div>\n",
       "<style scoped>\n",
       "    .dataframe tbody tr th:only-of-type {\n",
       "        vertical-align: middle;\n",
       "    }\n",
       "\n",
       "    .dataframe tbody tr th {\n",
       "        vertical-align: top;\n",
       "    }\n",
       "\n",
       "    .dataframe thead th {\n",
       "        text-align: right;\n",
       "    }\n",
       "</style>\n",
       "<table border=\"1\" class=\"dataframe\">\n",
       "  <thead>\n",
       "    <tr style=\"text-align: right;\">\n",
       "      <th></th>\n",
       "      <th>lcavol</th>\n",
       "      <th>lweight</th>\n",
       "      <th>age</th>\n",
       "      <th>lbph</th>\n",
       "      <th>svi</th>\n",
       "      <th>lcp</th>\n",
       "      <th>gleason</th>\n",
       "      <th>pgg45</th>\n",
       "      <th>lpsa</th>\n",
       "      <th>train</th>\n",
       "    </tr>\n",
       "  </thead>\n",
       "  <tbody>\n",
       "    <tr>\n",
       "      <th>0</th>\n",
       "      <td>-0.579818</td>\n",
       "      <td>2.769459</td>\n",
       "      <td>50</td>\n",
       "      <td>-1.386294</td>\n",
       "      <td>0</td>\n",
       "      <td>-1.386294</td>\n",
       "      <td>6</td>\n",
       "      <td>0</td>\n",
       "      <td>-0.430783</td>\n",
       "      <td>T</td>\n",
       "    </tr>\n",
       "    <tr>\n",
       "      <th>1</th>\n",
       "      <td>-0.994252</td>\n",
       "      <td>3.319626</td>\n",
       "      <td>58</td>\n",
       "      <td>-1.386294</td>\n",
       "      <td>0</td>\n",
       "      <td>-1.386294</td>\n",
       "      <td>6</td>\n",
       "      <td>0</td>\n",
       "      <td>-0.162519</td>\n",
       "      <td>T</td>\n",
       "    </tr>\n",
       "    <tr>\n",
       "      <th>2</th>\n",
       "      <td>-0.510826</td>\n",
       "      <td>2.691243</td>\n",
       "      <td>74</td>\n",
       "      <td>-1.386294</td>\n",
       "      <td>0</td>\n",
       "      <td>-1.386294</td>\n",
       "      <td>7</td>\n",
       "      <td>20</td>\n",
       "      <td>-0.162519</td>\n",
       "      <td>T</td>\n",
       "    </tr>\n",
       "    <tr>\n",
       "      <th>3</th>\n",
       "      <td>-1.203973</td>\n",
       "      <td>3.282789</td>\n",
       "      <td>58</td>\n",
       "      <td>-1.386294</td>\n",
       "      <td>0</td>\n",
       "      <td>-1.386294</td>\n",
       "      <td>6</td>\n",
       "      <td>0</td>\n",
       "      <td>-0.162519</td>\n",
       "      <td>T</td>\n",
       "    </tr>\n",
       "    <tr>\n",
       "      <th>4</th>\n",
       "      <td>0.751416</td>\n",
       "      <td>3.432373</td>\n",
       "      <td>62</td>\n",
       "      <td>-1.386294</td>\n",
       "      <td>0</td>\n",
       "      <td>-1.386294</td>\n",
       "      <td>6</td>\n",
       "      <td>0</td>\n",
       "      <td>0.371564</td>\n",
       "      <td>T</td>\n",
       "    </tr>\n",
       "  </tbody>\n",
       "</table>\n",
       "</div>"
      ],
      "text/plain": [
       "     lcavol   lweight  age      lbph  svi       lcp  gleason  pgg45      lpsa  \\\n",
       "0 -0.579818  2.769459   50 -1.386294    0 -1.386294        6      0 -0.430783   \n",
       "1 -0.994252  3.319626   58 -1.386294    0 -1.386294        6      0 -0.162519   \n",
       "2 -0.510826  2.691243   74 -1.386294    0 -1.386294        7     20 -0.162519   \n",
       "3 -1.203973  3.282789   58 -1.386294    0 -1.386294        6      0 -0.162519   \n",
       "4  0.751416  3.432373   62 -1.386294    0 -1.386294        6      0  0.371564   \n",
       "\n",
       "  train  \n",
       "0     T  \n",
       "1     T  \n",
       "2     T  \n",
       "3     T  \n",
       "4     T  "
      ]
     },
     "execution_count": 3,
     "metadata": {},
     "output_type": "execute_result"
    }
   ],
   "source": [
    "d = pd.read_csv('../Data/prostate.csv', delimiter = '\\t',index_col=0).reset_index(drop=True)\n",
    "d.head()"
   ]
  },
  {
   "cell_type": "code",
   "execution_count": 4,
   "metadata": {},
   "outputs": [
    {
     "data": {
      "text/plain": [
       "array(['T', 'F'], dtype=object)"
      ]
     },
     "execution_count": 4,
     "metadata": {},
     "output_type": "execute_result"
    }
   ],
   "source": [
    "d.train.unique()"
   ]
  },
  {
   "cell_type": "markdown",
   "metadata": {},
   "source": [
    "These data already have a test/train split, so we'll just use those "
   ]
  },
  {
   "cell_type": "code",
   "execution_count": 5,
   "metadata": {},
   "outputs": [],
   "source": [
    "features = list(d.columns)[:-2]"
   ]
  },
  {
   "cell_type": "code",
   "execution_count": 6,
   "metadata": {},
   "outputs": [
    {
     "data": {
      "text/plain": [
       "(67, 30)"
      ]
     },
     "execution_count": 6,
     "metadata": {},
     "output_type": "execute_result"
    }
   ],
   "source": [
    "train = d[d['train']=='T']\n",
    "test = d[d['train']=='F']\n",
    "\n",
    "xtrain = utls.standardize(train[features]).as_matrix()\n",
    "ytrain = utls.standardize(train['lpsa']).as_matrix()\n",
    "\n",
    "xtest = utls.standardize(test[features]).as_matrix()\n",
    "ytest = utls.standardize(test['lpsa']).as_matrix()\n",
    "\n",
    "len(xtrain), len(xtest)"
   ]
  },
  {
   "cell_type": "markdown",
   "metadata": {},
   "source": [
    "## Use cross-validation and the 1 standard error rule to pick regularizer for Lasso\n",
    "\n",
    "This is a frequentist method for model selection in the case where we are attempting to predict observable quantities. If we have a loss function $L(y_i,f_\\lambda^k(\\mathbf{x}_i))$ where $\\lambda$ is some hyper-parameter of our model (in this case, the regularizer value). We have $k=1,\\dots,K$ 'folds', where we randomly partition the data into $K$ equally-sized sets. $f_\\lambda^k(\\mathbf{x}_i)$ is the prediction function trained on data excluding the $k$th fold, given the hyperparameter value $\\lambda$. In this case, the loss function is simply the residual sum of squared errors between the prediction and the true value of the response $y_i$. \n",
    "\n",
    "To perform model selection, a heuristic often used is to compute the standard error in the loss across the $K$ folds\n",
    "\n",
    "$$SE(\\lambda_i) = \\sqrt{\\frac{\\mathbb{V}(L_1(\\lambda_i),\\dots,L_K(\\lambda_i))}{K}}$$\n",
    "\n",
    "where $L_j(\\lambda_i)$ is the loss for the $j$th fold for $\\lambda_i$. Then choose the model with the least number of parameters which is no more than 1 standard error away from the best model."
   ]
  },
  {
   "cell_type": "code",
   "execution_count": 7,
   "metadata": {},
   "outputs": [],
   "source": [
    "from sklearn.model_selection import KFold"
   ]
  },
  {
   "cell_type": "code",
   "execution_count": 8,
   "metadata": {},
   "outputs": [
    {
     "data": {
      "text/plain": [
       "48.38823967871569"
      ]
     },
     "execution_count": 8,
     "metadata": {},
     "output_type": "execute_result"
    }
   ],
   "source": [
    "regularizer_max = np.linalg.norm(np.dot(xtrain.T,ytrain),ord=np.inf) # find the maximum value of the regularizer (Eq 13.57 Murphy)\n",
    "regularizer_max"
   ]
  },
  {
   "cell_type": "code",
   "execution_count": 9,
   "metadata": {},
   "outputs": [],
   "source": [
    "alpha_space = np.logspace(np.log10(0.001),np.log10(regularizer_max))"
   ]
  },
  {
   "cell_type": "code",
   "execution_count": 10,
   "metadata": {},
   "outputs": [],
   "source": [
    "n_folds = 5\n",
    "kf = KFold(n_splits=n_folds, shuffle=True, random_state=1) # split the data into k consecutive folds"
   ]
  },
  {
   "cell_type": "code",
   "execution_count": 11,
   "metadata": {},
   "outputs": [],
   "source": [
    "loss_alpha_arr = np.zeros((len(alpha_space),n_folds))\n",
    "weight_counts = []\n",
    "for i, alpha_val in enumerate(alpha_space):\n",
    "    j=0\n",
    "    for train_index, test_index in kf.split(xtrain):\n",
    "        xtrain_k, x_test_k = xtrain[train_index], xtrain[test_index]\n",
    "        ytrain_k, y_test_k = ytrain[train_index], ytrain[test_index]\n",
    "        clf = Lasso(alpha=alpha_val)\n",
    "        clf.fit(xtrain,ytrain)\n",
    "        loss_ik = (clf.predict(x_test_k) - y_test_k)**2\n",
    "        loss_alpha_arr[i,j] = loss_ik.sum()        \n",
    "        weight_counts.append(clf.sparse_coef_.count_nonzero())\n",
    "        j += 1\n",
    "weight_counts = np.array(weight_counts)\n",
    "    "
   ]
  },
  {
   "cell_type": "code",
   "execution_count": 12,
   "metadata": {},
   "outputs": [],
   "source": [
    "mean_loss = loss_alpha_arr.mean(axis=1)\n",
    "se_loss = loss_alpha_arr.std(axis=1,ddof=1)/np.sqrt(n_folds)"
   ]
  },
  {
   "cell_type": "code",
   "execution_count": 13,
   "metadata": {},
   "outputs": [],
   "source": [
    "best_model_index = np.argmin(mean_loss)"
   ]
  },
  {
   "cell_type": "markdown",
   "metadata": {},
   "source": [
    "No surprises: the best model is the most complex model, with the lowest regularizer"
   ]
  },
  {
   "cell_type": "code",
   "execution_count": 14,
   "metadata": {},
   "outputs": [],
   "source": [
    "best_model_ub_risk = mean_loss[best_model_index] + se_loss[best_model_index]"
   ]
  },
  {
   "cell_type": "code",
   "execution_count": 15,
   "metadata": {},
   "outputs": [
    {
     "name": "stdout",
     "output_type": "stream",
     "text": [
      "20\n"
     ]
    }
   ],
   "source": [
    "for i in range(len(alpha_space))[::-1]:\n",
    "    if mean_loss[i] < best_model_ub_risk:\n",
    "        optimal_model = i\n",
    "        print(i)\n",
    "        break"
   ]
  },
  {
   "cell_type": "code",
   "execution_count": 16,
   "metadata": {},
   "outputs": [
    {
     "data": {
      "text/plain": [
       "8"
      ]
     },
     "execution_count": 16,
     "metadata": {},
     "output_type": "execute_result"
    }
   ],
   "source": [
    "weight_counts[optimal_model]"
   ]
  },
  {
   "cell_type": "code",
   "execution_count": 17,
   "metadata": {},
   "outputs": [
    {
     "data": {
      "text/plain": [
       "4.646046145100014"
      ]
     },
     "execution_count": 17,
     "metadata": {},
     "output_type": "execute_result"
    }
   ],
   "source": [
    "mean_loss[optimal_model]"
   ]
  },
  {
   "cell_type": "code",
   "execution_count": 18,
   "metadata": {},
   "outputs": [
    {
     "data": {
      "text/plain": [
       "(4.55722988648053, 4.749712946257111, 4.783990364129201)"
      ]
     },
     "execution_count": 18,
     "metadata": {},
     "output_type": "execute_result"
    }
   ],
   "source": [
    "mean_loss[optimal_model - 1], best_model_ub_risk, mean_loss[optimal_model + 1]"
   ]
  },
  {
   "cell_type": "markdown",
   "metadata": {},
   "source": [
    "## Generate a regularization path\n",
    "\n",
    "This is where we plot the magnitude of the weights for each feature against the regularizer $\\lambda$"
   ]
  },
  {
   "cell_type": "code",
   "execution_count": 19,
   "metadata": {},
   "outputs": [],
   "source": [
    "coef_alpha = []"
   ]
  },
  {
   "cell_type": "code",
   "execution_count": 20,
   "metadata": {},
   "outputs": [],
   "source": [
    "for alpha_val in alpha_space:\n",
    "    clf = Lasso(alpha=alpha_val)\n",
    "    clf.fit(xtrain,ytrain)\n",
    "    coef_alpha.append(clf.coef_)\n",
    "coef_alpha = np.array(coef_alpha)"
   ]
  },
  {
   "cell_type": "code",
   "execution_count": 21,
   "metadata": {},
   "outputs": [
    {
     "data": {
      "text/plain": [
       "array([ 0.47609625,  0.19090739, -0.        ,  0.08806915,  0.14297508,\n",
       "        0.        ,  0.        ,  0.05479126])"
      ]
     },
     "execution_count": 21,
     "metadata": {},
     "output_type": "execute_result"
    }
   ],
   "source": [
    "coef_alpha[optimal_model]"
   ]
  },
  {
   "cell_type": "code",
   "execution_count": 22,
   "metadata": {},
   "outputs": [
    {
     "name": "stderr",
     "output_type": "stream",
     "text": [
      "/home/juvid/anaconda2/lib/python2.7/site-packages/matplotlib/font_manager.py:1328: UserWarning: findfont: Font family [u'sans-serif'] not found. Falling back to DejaVu Sans\n",
      "  (prop.get_family(), self.defaultFamily[fontext]))\n"
     ]
    },
    {
     "data": {
      "image/png": "[encoded data removed]",
      "text/plain": [
       "<Figure size 432x288 with 1 Axes>"
      ]
     },
     "metadata": {},
     "output_type": "display_data"
    }
   ],
   "source": [
    "fig, ax = plt.subplots(1,1)\n",
    "for i, feat_name in enumerate(features):\n",
    "    ax.plot(np.log10(alpha_space), coef_alpha[:,i],'.-',label=feat_name)\n",
    "\n",
    "ax.plot(np.log10(alpha_space[optimal_model])*np.ones(50),np.linspace(-0.25,0.6),'-r', label = '5-fold CV, 1SE')\n",
    "ax.legend(prop={'size':10})\n",
    "ax.set_xlabel('Log regularizer, $\\log_{10} \\lambda$')\n",
    "ax.set_ylabel('Feature weight');"
   ]
  },
  {
   "cell_type": "markdown",
   "metadata": {},
   "source": [
    "As the regularizer is increased, parameters become smaller and the solution becomes more sparse. The red vertical line is the value of $\\lambda$ chosen using 5-fold cross-validation using the 1 SE rule. This is a compromise between sparsity and minimising reconstruction error."
   ]
  }
 ],
 "metadata": {
  "kernelspec": {
   "display_name": "Python 2",
   "language": "python",
   "name": "python2"
  },
  "language_info": {
   "codemirror_mode": {
    "name": "ipython",
    "version": 2
   },
   "file_extension": ".py",
   "mimetype": "text/x-python",
   "name": "python",
   "nbconvert_exporter": "python",
   "pygments_lexer": "ipython2",
   "version": "2.7.14"
  }
 },
 "nbformat": 4,
 "nbformat_minor": 2
}
