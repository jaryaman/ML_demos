{
 "cells": [
  {
   "cell_type": "markdown",
   "metadata": {},
   "source": [
    "# Introduction to stochastic variational inference in pyro\n",
    "\n",
    "## Inferring coin bias with the beta-binomial model"
   ]
  },
  {
   "cell_type": "code",
   "execution_count": 1,
   "metadata": {},
   "outputs": [],
   "source": [
    "import numpy as np\n",
    "import pyro.distributions as dist\n",
    "import pyro\n",
    "from torch.distributions import constraints\n",
    "from pyro.optim import Adam\n",
    "from pyro.infer import SVI, Trace_ELBO\n",
    "import torch"
   ]
  },
  {
   "cell_type": "code",
   "execution_count": 2,
   "metadata": {},
   "outputs": [],
   "source": [
    "from tqdm import tqdm"
   ]
  },
  {
   "cell_type": "code",
   "execution_count": 3,
   "metadata": {},
   "outputs": [],
   "source": [
    "import arviz as az\n",
    "import matplotlib.pyplot as plt"
   ]
  },
  {
   "cell_type": "markdown",
   "metadata": {},
   "source": [
    "Specify the joint density "
   ]
  },
  {
   "cell_type": "code",
   "execution_count": 4,
   "metadata": {},
   "outputs": [],
   "source": [
    "def model(data):    \n",
    "    alpha0 = torch.tensor(10.0)\n",
    "    beta0 = torch.tensor(10.0)\n",
    "    f = pyro.sample(\"latent_fairness\", dist.Beta(alpha0, beta0))\n",
    "    for i in range(len(data)):\n",
    "        pyro.sample(\"obs_{}\".format(i), dist.Bernoulli(f), obs=data[i])  # Don't worry, we will vectorize this later"
   ]
  },
  {
   "cell_type": "markdown",
   "metadata": {},
   "source": [
    "Specify the variational family"
   ]
  },
  {
   "cell_type": "code",
   "execution_count": 5,
   "metadata": {},
   "outputs": [],
   "source": [
    "def guide(data):  # guide and model must have the same signature, despite us not actually using the data in this case\n",
    "    alpha_q = pyro.param(\"alpha_q\", torch.tensor(15.0), # optimization initialization\n",
    "                         constraint=constraints.positive, # constrained optimization\n",
    "                        )  # requires_grad is automatically set to True\n",
    "    beta_q = pyro.param(\"beta_q\", torch.tensor(15.0), \n",
    "                        constraint=constraints.positive)\n",
    "    pyro.sample(\"latent_fairness\", dist.Beta(alpha_q, beta_q))"
   ]
  },
  {
   "cell_type": "markdown",
   "metadata": {},
   "source": [
    "Specify optimizer"
   ]
  },
  {
   "cell_type": "code",
   "execution_count": 6,
   "metadata": {},
   "outputs": [],
   "source": [
    "adam_params = {\"lr\": 0.0005, \"betas\": (0.90, 0.999)}\n",
    "optimizer = Adam(adam_params)\n",
    "svi = SVI(model, guide, optimizer, loss=Trace_ELBO())"
   ]
  },
  {
   "cell_type": "code",
   "execution_count": 7,
   "metadata": {},
   "outputs": [],
   "source": [
    "d = torch.tensor(np.random.binomial(n=1, p=0.55, size=10), dtype=float)"
   ]
  },
  {
   "cell_type": "code",
   "execution_count": 8,
   "metadata": {},
   "outputs": [
    {
     "name": "stderr",
     "output_type": "stream",
     "text": [
      "100%|██████████| 1000/1000 [00:04<00:00, 222.70it/s]\n"
     ]
    }
   ],
   "source": [
    "n_steps = 1000\n",
    "\n",
    "for step in tqdm(range(n_steps)):\n",
    "    svi.step(d)"
   ]
  },
  {
   "cell_type": "markdown",
   "metadata": {},
   "source": [
    "Grab the learned variational parameters"
   ]
  },
  {
   "cell_type": "code",
   "execution_count": 9,
   "metadata": {},
   "outputs": [],
   "source": [
    "alpha_q = pyro.param(\"alpha_q\").item()\n",
    "beta_q = pyro.param(\"beta_q\").item()"
   ]
  },
  {
   "cell_type": "code",
   "execution_count": 10,
   "metadata": {},
   "outputs": [],
   "source": [
    "def summarize_beta(alpha, beta):\n",
    "    inferred_mean = alpha / (alpha + beta)\n",
    "    \n",
    "    factor = beta / (alpha * (1.0 + alpha + beta))\n",
    "    inferred_std = inferred_mean * np.sqrt(factor)\n",
    "    return inferred_mean, inferred_std"
   ]
  },
  {
   "cell_type": "code",
   "execution_count": 11,
   "metadata": {},
   "outputs": [
    {
     "data": {
      "text/plain": [
       "(0.587195867889499, 0.08806620063452536)"
      ]
     },
     "execution_count": 11,
     "metadata": {},
     "output_type": "execute_result"
    }
   ],
   "source": [
    "summarize_beta(alpha_q, beta_q)"
   ]
  },
  {
   "cell_type": "markdown",
   "metadata": {},
   "source": [
    "## Conditional independence and subsampling"
   ]
  },
  {
   "cell_type": "markdown",
   "metadata": {},
   "source": [
    "The objective is to not have to touch every data point during inference, but rather approximate the log likelihood with mini-batches. Let $\\boldsymbol{x}$ denote a data vector of observations, and $\\boldsymbol{z}$ denote a vector of latent random variables \n",
    "\n",
    "$$\\sum_{i=1}^N \\log p(\\boldsymbol{x}_i | \\boldsymbol{z}) \\approx \\frac{N}{M} \\sum_{i \\in \\mathcal{I}_M}^N \\log p(\\boldsymbol{x}_i | \\boldsymbol{z})$$"
   ]
  },
  {
   "cell_type": "markdown",
   "metadata": {},
   "source": [
    "where $\\mathcal{I}_M$ is a mini-batch of indices of size $M$. To do this, we require the variational family to be a **conditionally conjugate model**, see [Blei's review](https://arxiv.org/pdf/1601.00670.pdf)."
   ]
  },
  {
   "cell_type": "markdown",
   "metadata": {},
   "source": [
    "The `pyro.plate` allows us to encode conditional independence in the model. Let's do that:"
   ]
  },
  {
   "cell_type": "code",
   "execution_count": 12,
   "metadata": {},
   "outputs": [],
   "source": [
    "def model_vec(data):    \n",
    "    alpha0 = torch.tensor(10.0)\n",
    "    beta0 = torch.tensor(10.0)\n",
    "    f = pyro.sample(\"latent_fairness\", dist.Beta(alpha0, beta0))\n",
    "    for i in pyro.plate(\"data_loop\", len(data)):\n",
    "        pyro.sample(\"obs_{}\".format(i), dist.Bernoulli(f), obs=data[i])  # this allows us to leverage conditional independence of the observations given the latent variables"
   ]
  },
  {
   "cell_type": "markdown",
   "metadata": {},
   "source": [
    "Let's make this more efficient by:\n",
    "- Vectorizing \n",
    "- Subsampling, so we can mini-batch"
   ]
  },
  {
   "cell_type": "code",
   "execution_count": 13,
   "metadata": {},
   "outputs": [],
   "source": [
    "def model_vec_subsampled(data):    \n",
    "    alpha0 = torch.tensor(10.0)\n",
    "    beta0 = torch.tensor(10.0)\n",
    "    f = pyro.sample(\"latent_fairness\", dist.Beta(alpha0, beta0))\n",
    "    with pyro.plate(\"observe_data\", \n",
    "                    \n",
    "                    # Size is required so that the correct scaling factor can be computed\n",
    "                    size=len(data), \n",
    "                    \n",
    "                    # We only evaluate the log likelihood for 5 randomly chosen datapoints in the data, \n",
    "                    # and the log likelihood will automatically get scaled by N/M\n",
    "                    subsample_size=5,  \n",
    "                                    \n",
    "                    # set the device to use a GPU\n",
    "                    # device = \n",
    "                    \n",
    "                    # A stateful subsampling scheme may be necessary -- it is possible to never touch \n",
    "                    # some data points if the dataset is sufficiently large\n",
    "                    # subsample = \n",
    "                   ) as ind:\n",
    "        pyro.sample(\"obs\", dist.Bernoulli(f), obs=data.index_select(0, ind))  # this will be a tensor of length 5  "
   ]
  },
  {
   "cell_type": "code",
   "execution_count": 14,
   "metadata": {},
   "outputs": [],
   "source": [
    "svi = SVI(model_vec_subsampled, guide, optimizer, loss=Trace_ELBO())"
   ]
  },
  {
   "cell_type": "code",
   "execution_count": 15,
   "metadata": {},
   "outputs": [
    {
     "name": "stderr",
     "output_type": "stream",
     "text": [
      "100%|██████████| 1000/1000 [00:01<00:00, 513.25it/s]\n"
     ]
    }
   ],
   "source": [
    "n_steps = 1000\n",
    "\n",
    "for step in tqdm(range(n_steps)):\n",
    "    svi.step(d)"
   ]
  },
  {
   "cell_type": "code",
   "execution_count": 16,
   "metadata": {},
   "outputs": [],
   "source": [
    "alpha_q = pyro.param(\"alpha_q\").item()\n",
    "beta_q = pyro.param(\"beta_q\").item()"
   ]
  },
  {
   "cell_type": "code",
   "execution_count": 17,
   "metadata": {},
   "outputs": [
    {
     "data": {
      "text/plain": [
       "(0.5967929619869111, 0.08767387194467353)"
      ]
     },
     "execution_count": 17,
     "metadata": {},
     "output_type": "execute_result"
    }
   ],
   "source": [
    "summarize_beta(alpha_q, beta_q)"
   ]
  },
  {
   "cell_type": "markdown",
   "metadata": {},
   "source": [
    "## Conditionally conjugate models"
   ]
  },
  {
   "cell_type": "markdown",
   "metadata": {},
   "source": [
    "We may also have conditional independence in the variational distribution (the `guide`) too."
   ]
  },
  {
   "cell_type": "markdown",
   "metadata": {},
   "source": [
    "Let $\\beta$ be a vector of global latent variables, which potentially govern any of the data. Let $z$ be a vector of local latent variables, whose $i$th component only governs data in the $i$th \"context\". The joint density of a conditionally conjugate model is:\n",
    "\n",
    "$$p(\\beta, \\boldsymbol{z}, \\boldsymbol{x}) = p(\\beta) \\prod_{i=1}^n p(z_i, x_i | \\beta)$$"
   ]
  },
  {
   "cell_type": "markdown",
   "metadata": {},
   "source": [
    "The variational family (according to the pyro docs, though I don't yet get how this gels with the review) should factorize like\n",
    "\n",
    "$$p(\\beta, \\boldsymbol{z}) = p(\\beta) \\prod_{i=1}^n p(z_i | \\beta, \\lambda_i)$$\n",
    "\n",
    "where $\\lambda_i$ are local variational parameters (other variational parameters are left implicit). "
   ]
  },
  {
   "cell_type": "markdown",
   "metadata": {},
   "source": [
    "To achieve this in `pyro`, a `plate` should be used in both the model and the guide, ensuring that the guide's conditional independence structure respects that of the model."
   ]
  },
  {
   "cell_type": "markdown",
   "metadata": {},
   "source": [
    "## MAP estimation"
   ]
  },
  {
   "cell_type": "markdown",
   "metadata": {},
   "source": [
    "Consider a mixture of Gaussians model\n",
    "\n",
    "$$\\mu_k \\sim N(0, \\sigma^2), k=1,...,K$$\n",
    "$$c_i \\sim \\text{Cat}(1/K, ..., 1/K), i=1,...,n$$\n",
    "$$x_i|c_i,\\mu \\sim \\mathcal{N}(c_i^T \\mu, 1), i=1,...,n$$\n",
    "\n"
   ]
  },
  {
   "cell_type": "markdown",
   "metadata": {},
   "source": [
    "We will train a MAP estimator of $\\mu_k$ by constructing a Dirac-distribution guide using `AutoDelta`.\n",
    "\n",
    "See the example in [the docs](https://pyro.ai/examples/gmm.html) also [these notes](https://bookdown.org/robertness/causalml/docs/tutorial-on-deep-probabilitic-modeling-with-pyro.html#gaussian-mixture-model-1)."
   ]
  },
  {
   "cell_type": "code",
   "execution_count": 18,
   "metadata": {},
   "outputs": [],
   "source": [
    "from collections import defaultdict\n",
    "\n",
    "import numpy as np\n",
    "import matplotlib.pyplot as plt\n",
    "\n",
    "from pyro.infer import config_enumerate\n",
    "from pyro import poutine\n",
    "from pyro.contrib.autoguide import AutoDelta\n",
    "from pyro.infer import TraceEnum_ELBO, config_enumerate"
   ]
  },
  {
   "cell_type": "code",
   "execution_count": 19,
   "metadata": {},
   "outputs": [],
   "source": [
    "np.random.seed(42)\n",
    "\n",
    "K = 2\n",
    "n = 100\n",
    "sigma_mu = 10.\n",
    "mu_k = np.random.normal(0, sigma_mu, size=K)\n",
    "ci = np.random.choice(K, size=n)\n",
    "sigma = 1\n",
    "d = []\n",
    "for i, c in enumerate(ci):\n",
    "    d.append(np.random.normal(mu_k[c], sigma))\n",
    "d = np.hstack(d)"
   ]
  },
  {
   "cell_type": "code",
   "execution_count": 20,
   "metadata": {},
   "outputs": [
    {
     "data": {
      "text/plain": [
       "array([ 4.96714153, -1.38264301])"
      ]
     },
     "execution_count": 20,
     "metadata": {},
     "output_type": "execute_result"
    }
   ],
   "source": [
    "mu_k"
   ]
  },
  {
   "cell_type": "code",
   "execution_count": 21,
   "metadata": {},
   "outputs": [
    {
     "data": {
      "image/png": "[encoded data removed]",
      "text/plain": [
       "<Figure size 432x288 with 1 Axes>"
      ]
     },
     "metadata": {
      "needs_background": "light"
     },
     "output_type": "display_data"
    }
   ],
   "source": [
    "plt.hist(d, bins=int(sigma_mu)*2);"
   ]
  },
  {
   "cell_type": "code",
   "execution_count": 22,
   "metadata": {},
   "outputs": [],
   "source": [
    "pyro.enable_validation(True)"
   ]
  },
  {
   "cell_type": "code",
   "execution_count": 23,
   "metadata": {},
   "outputs": [],
   "source": [
    "data = torch.tensor(d, dtype=torch.float)\n",
    "\n",
    "@config_enumerate\n",
    "def model_mixture_of_gaussians(data):\n",
    "    weights = torch.ones(K, dtype=torch.float)/K\n",
    "    \n",
    "    with pyro.plate(\"mu\", K):\n",
    "        locs = pyro.sample(\"locs\", dist.Normal(0., sigma_mu))\n",
    "        \n",
    "    with pyro.plate(\"data\", len(data)):\n",
    "        assignment = pyro.sample('assignment', dist.Categorical(weights))\n",
    "        pyro.sample('obs', dist.Normal(locs[assignment], 1.), obs=data)\n",
    "\n",
    "# Let pyro make a guide automatically for us, using Delta distributions to find the parameters of interest (the component locations)\n",
    "auto_guide = AutoDelta(poutine.block(model_mixture_of_gaussians, expose=['locs']))  # automatically makes a variational distribution from the model for MAP estimation"
   ]
  },
  {
   "cell_type": "code",
   "execution_count": 24,
   "metadata": {},
   "outputs": [],
   "source": [
    "optim = pyro.optim.Adam({'lr': 0.1, 'betas': [0.8, 0.99]})\n",
    "elbo = TraceEnum_ELBO(max_plate_nesting=1)"
   ]
  },
  {
   "cell_type": "code",
   "execution_count": 25,
   "metadata": {},
   "outputs": [],
   "source": [
    "svi = SVI(model_mixture_of_gaussians, auto_guide, optim, loss=elbo)"
   ]
  },
  {
   "cell_type": "code",
   "execution_count": 26,
   "metadata": {},
   "outputs": [
    {
     "name": "stdout",
     "output_type": "stream",
     "text": [
      "seed = 0, initial_loss = 2702.08056640625\n"
     ]
    }
   ],
   "source": [
    "def initialize(seed, guide):\n",
    "    pyro.set_rng_seed(seed)\n",
    "    pyro.clear_param_store()\n",
    "    \n",
    "    # Initialize means from a subsample of data.\n",
    "    pyro.param('auto_locs', data[torch.multinomial(torch.ones(len(data)) / len(data), K)]);\n",
    "    \n",
    "    loss = svi.loss(model_mixture_of_gaussians, guide, data)\n",
    "    return loss\n",
    "\n",
    "# Choose the best among 100 random initializations.\n",
    "loss, seed = min((initialize(seed, auto_guide), seed) for seed in range(100))\n",
    "initialize(seed, auto_guide)\n",
    "print('seed = {}, initial_loss = {}'.format(seed, loss))"
   ]
  },
  {
   "cell_type": "code",
   "execution_count": 27,
   "metadata": {},
   "outputs": [
    {
     "name": "stderr",
     "output_type": "stream",
     "text": [
      "100%|██████████| 200/200 [00:00<00:00, 308.89it/s]\n"
     ]
    }
   ],
   "source": [
    "losses = []\n",
    "for i in tqdm(range(200)):\n",
    "    loss = svi.step(data)\n",
    "    losses.append(loss)\n",
    "    "
   ]
  },
  {
   "cell_type": "code",
   "execution_count": 28,
   "metadata": {},
   "outputs": [
    {
     "data": {
      "image/png": "[encoded data removed]",
      "text/plain": [
       "<Figure size 1000x300 with 1 Axes>"
      ]
     },
     "metadata": {},
     "output_type": "display_data"
    }
   ],
   "source": [
    "plt.figure(figsize=(10,3), dpi=100).set_facecolor('white')\n",
    "plt.plot(losses)\n",
    "plt.xlabel('iters')\n",
    "plt.ylabel('loss')\n",
    "plt.yscale('log')\n",
    "plt.title('Convergence of SVI');"
   ]
  },
  {
   "cell_type": "code",
   "execution_count": 29,
   "metadata": {},
   "outputs": [
    {
     "data": {
      "text/plain": [
       "tensor([-1.3439,  4.8388], grad_fn=<ExpandBackward>)"
      ]
     },
     "execution_count": 29,
     "metadata": {},
     "output_type": "execute_result"
    }
   ],
   "source": [
    "map_estimates = auto_guide(data)\n",
    "locs = map_estimates['locs']\n",
    "locs"
   ]
  },
  {
   "cell_type": "code",
   "execution_count": 30,
   "metadata": {},
   "outputs": [
    {
     "data": {
      "text/plain": [
       "array([ 4.96714153, -1.38264301])"
      ]
     },
     "execution_count": 30,
     "metadata": {},
     "output_type": "execute_result"
    }
   ],
   "source": [
    "mu_k"
   ]
  },
  {
   "cell_type": "markdown",
   "metadata": {},
   "source": [
    "Gets pretty close..."
   ]
  }
 ],
 "metadata": {
  "kernelspec": {
   "display_name": "Python 3",
   "language": "python",
   "name": "python3"
  },
  "language_info": {
   "codemirror_mode": {
    "name": "ipython",
    "version": 3
   },
   "file_extension": ".py",
   "mimetype": "text/x-python",
   "name": "python",
   "nbconvert_exporter": "python",
   "pygments_lexer": "ipython3",
   "version": "3.8.5"
  }
 },
 "nbformat": 4,
 "nbformat_minor": 4
}
