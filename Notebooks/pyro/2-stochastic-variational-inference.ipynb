{
 "cells": [
  {
   "cell_type": "markdown",
   "metadata": {},
   "source": [
    "# Introduction to stochastic variational inference in pyro\n",
    "\n",
    "## Inferring coin bias with the beta-binomial model"
   ]
  },
  {
   "cell_type": "code",
   "execution_count": 1,
   "metadata": {},
   "outputs": [],
   "source": [
    "import numpy as np\n",
    "import pyro.distributions as dist\n",
    "import pyro\n",
    "from torch.distributions import constraints\n",
    "from pyro.optim import Adam\n",
    "from pyro.infer import SVI, Trace_ELBO\n",
    "import torch"
   ]
  },
  {
   "cell_type": "code",
   "execution_count": 2,
   "metadata": {},
   "outputs": [],
   "source": [
    "from tqdm import tqdm"
   ]
  },
  {
   "cell_type": "code",
   "execution_count": 3,
   "metadata": {},
   "outputs": [],
   "source": [
    "import arviz as az\n",
    "import matplotlib.pyplot as plt"
   ]
  },
  {
   "cell_type": "markdown",
   "metadata": {},
   "source": [
    "Specify the joint density "
   ]
  },
  {
   "cell_type": "code",
   "execution_count": 4,
   "metadata": {},
   "outputs": [],
   "source": [
    "def model(data):    \n",
    "    alpha0 = torch.tensor(10.0)\n",
    "    beta0 = torch.tensor(10.0)\n",
    "    f = pyro.sample(\"latent_fairness\", dist.Beta(alpha0, beta0))\n",
    "    for i in range(len(data)):\n",
    "        pyro.sample(\"obs_{}\".format(i), dist.Bernoulli(f), obs=data[i])  # Don't worry, we will vectorize this later"
   ]
  },
  {
   "cell_type": "markdown",
   "metadata": {},
   "source": [
    "Specify the variational family"
   ]
  },
  {
   "cell_type": "code",
   "execution_count": 5,
   "metadata": {},
   "outputs": [],
   "source": [
    "def guide(data):  # guide and model must have the same signature, despite us not actually using the data in this case\n",
    "    alpha_q = pyro.param(\"alpha_q\", torch.tensor(15.0), # optimization initialization\n",
    "                         constraint=constraints.positive, # constrained optimization\n",
    "                        )  # requires_grad is automatically set to True\n",
    "    beta_q = pyro.param(\"beta_q\", torch.tensor(15.0), \n",
    "                        constraint=constraints.positive)\n",
    "    pyro.sample(\"latent_fairness\", dist.Beta(alpha_q, beta_q))"
   ]
  },
  {
   "cell_type": "markdown",
   "metadata": {},
   "source": [
    "Specify optimizer"
   ]
  },
  {
   "cell_type": "code",
   "execution_count": 6,
   "metadata": {},
   "outputs": [],
   "source": [
    "adam_params = {\"lr\": 0.0005, \"betas\": (0.90, 0.999)}\n",
    "optimizer = Adam(adam_params)\n",
    "svi = SVI(model, guide, optimizer, loss=Trace_ELBO())"
   ]
  },
  {
   "cell_type": "code",
   "execution_count": 7,
   "metadata": {},
   "outputs": [],
   "source": [
    "d = torch.tensor(np.random.binomial(n=1, p=0.55, size=10), dtype=float)"
   ]
  },
  {
   "cell_type": "code",
   "execution_count": 8,
   "metadata": {},
   "outputs": [
    {
     "name": "stderr",
     "output_type": "stream",
     "text": [
      "100%|██████████| 1000/1000 [00:04<00:00, 229.46it/s]\n"
     ]
    }
   ],
   "source": [
    "n_steps = 1000\n",
    "\n",
    "for step in tqdm(range(n_steps)):\n",
    "    svi.step(d)"
   ]
  },
  {
   "cell_type": "markdown",
   "metadata": {},
   "source": [
    "Grab the learned variational parameters"
   ]
  },
  {
   "cell_type": "code",
   "execution_count": 9,
   "metadata": {},
   "outputs": [],
   "source": [
    "alpha_q = pyro.param(\"alpha_q\").item()\n",
    "beta_q = pyro.param(\"beta_q\").item()"
   ]
  },
  {
   "cell_type": "code",
   "execution_count": 10,
   "metadata": {},
   "outputs": [],
   "source": [
    "def summarize_beta(alpha, beta):\n",
    "    inferred_mean = alpha / (alpha + beta)\n",
    "    \n",
    "    factor = beta / (alpha * (1.0 + alpha + beta))\n",
    "    inferred_std = inferred_mean * np.sqrt(factor)\n",
    "    return inferred_mean, inferred_std"
   ]
  },
  {
   "cell_type": "code",
   "execution_count": 11,
   "metadata": {},
   "outputs": [
    {
     "data": {
      "text/plain": [
       "(0.4982493600079228, 0.08982133751085475)"
      ]
     },
     "execution_count": 11,
     "metadata": {},
     "output_type": "execute_result"
    }
   ],
   "source": [
    "summarize_beta(alpha_q, beta_q)"
   ]
  },
  {
   "cell_type": "markdown",
   "metadata": {},
   "source": [
    "## Conditional independence and subsampling"
   ]
  },
  {
   "cell_type": "markdown",
   "metadata": {},
   "source": [
    "The objective is to not have to touch every data point during inference, but rather approximate the log likelihood with mini-batches. Let $\\boldsymbol{x}$ denote a data vector of observations, and $\\boldsymbol{z}$ denote a vector of latent random variables \n",
    "\n",
    "$$\\sum_{i=1}^N \\log p(\\boldsymbol{x}_i | \\boldsymbol{z}) \\approx \\frac{N}{M} \\sum_{i \\in \\mathcal{I}_M}^N \\log p(\\boldsymbol{x}_i | \\boldsymbol{z})$$"
   ]
  },
  {
   "cell_type": "markdown",
   "metadata": {},
   "source": [
    "where $\\mathcal{I}_M$ is a mini-batch of indices of size $M$. To do this, we require the variational family to be a **conditionally conjugate model**, see [Blei's review](https://arxiv.org/pdf/1601.00670.pdf)."
   ]
  },
  {
   "cell_type": "markdown",
   "metadata": {},
   "source": [
    "The `pyro.plate` allows us to encode conditional independence in the model. Let's do that:"
   ]
  },
  {
   "cell_type": "code",
   "execution_count": 12,
   "metadata": {},
   "outputs": [],
   "source": [
    "def model_vec(data):    \n",
    "    alpha0 = torch.tensor(10.0)\n",
    "    beta0 = torch.tensor(10.0)\n",
    "    f = pyro.sample(\"latent_fairness\", dist.Beta(alpha0, beta0))\n",
    "    for i in pyro.plate(\"data_loop\", len(data)):\n",
    "        pyro.sample(\"obs_{}\".format(i), dist.Bernoulli(f), obs=data[i])  # this allows us to leverage conditional independence of the observations given the latent variables"
   ]
  },
  {
   "cell_type": "markdown",
   "metadata": {},
   "source": [
    "Let's make this more efficient by:\n",
    "- Vectorizing \n",
    "- Subsampling, so we can mini-batch"
   ]
  },
  {
   "cell_type": "code",
   "execution_count": 13,
   "metadata": {},
   "outputs": [],
   "source": [
    "def model_vec_subsampled(data):    \n",
    "    alpha0 = torch.tensor(10.0)\n",
    "    beta0 = torch.tensor(10.0)\n",
    "    f = pyro.sample(\"latent_fairness\", dist.Beta(alpha0, beta0))\n",
    "    with pyro.plate(\"observe_data\", \n",
    "                    \n",
    "                    # Size is required so that the correct scaling factor can be computed\n",
    "                    size=len(data), \n",
    "                    \n",
    "                    # We only evaluate the log likelihood for 5 randomly chosen datapoints in the data, \n",
    "                    # and the log likelihood will automatically get scaled by N/M\n",
    "                    subsample_size=5,  \n",
    "                                    \n",
    "                    # set the device to use a GPU\n",
    "                    # device = \n",
    "                    \n",
    "                    # A stateful subsampling scheme may be necessary -- it is possible to never touch \n",
    "                    # some data points if the dataset is sufficiently large\n",
    "                    # subsample = \n",
    "                   ) as ind:\n",
    "        pyro.sample(\"obs\", dist.Bernoulli(f), obs=data.index_select(0, ind))  # this will be a tensor of length 5  "
   ]
  },
  {
   "cell_type": "code",
   "execution_count": 14,
   "metadata": {},
   "outputs": [],
   "source": [
    "svi = SVI(model_vec_subsampled, guide, optimizer, loss=Trace_ELBO())"
   ]
  },
  {
   "cell_type": "code",
   "execution_count": 15,
   "metadata": {},
   "outputs": [
    {
     "name": "stderr",
     "output_type": "stream",
     "text": [
      "100%|██████████| 1000/1000 [00:01<00:00, 514.65it/s]\n"
     ]
    }
   ],
   "source": [
    "n_steps = 1000\n",
    "\n",
    "for step in tqdm(range(n_steps)):\n",
    "    svi.step(d)"
   ]
  },
  {
   "cell_type": "code",
   "execution_count": 16,
   "metadata": {},
   "outputs": [],
   "source": [
    "alpha_q = pyro.param(\"alpha_q\").item()\n",
    "beta_q = pyro.param(\"beta_q\").item()"
   ]
  },
  {
   "cell_type": "code",
   "execution_count": 17,
   "metadata": {},
   "outputs": [
    {
     "data": {
      "text/plain": [
       "(0.4968436189845653, 0.08969412420564438)"
      ]
     },
     "execution_count": 17,
     "metadata": {},
     "output_type": "execute_result"
    }
   ],
   "source": [
    "summarize_beta(alpha_q, beta_q)"
   ]
  },
  {
   "cell_type": "markdown",
   "metadata": {},
   "source": [
    "## Conditionally conjugate models"
   ]
  },
  {
   "cell_type": "markdown",
   "metadata": {},
   "source": [
    "We may also have conditional independence in the variational distribution (the `guide`) too."
   ]
  },
  {
   "cell_type": "markdown",
   "metadata": {},
   "source": [
    "Let $\\beta$ be a vector of global latent variables, which potentially govern any of the data. Let $z$ be a vector of local latent variables, whose $i$th component only governs data in the $i$th \"context\". The joint density of a conditionally conjugate model is:\n",
    "\n",
    "$$p(\\beta, \\boldsymbol{z}, \\boldsymbol{x}) = p(\\beta) \\prod_{i=1}^n p(z_i, x_i | \\beta)$$"
   ]
  },
  {
   "cell_type": "markdown",
   "metadata": {},
   "source": [
    "The variational family (according to the pyro docs, though I don't yet get how this gels with the review) should factorize like\n",
    "\n",
    "$$p(\\beta, \\boldsymbol{z}) = p(\\beta) \\prod_{i=1}^n p(z_i | \\beta, \\lambda_i)$$\n",
    "\n",
    "where $\\lambda_i$ are local variational parameters (other variational parameters are left implicit). "
   ]
  },
  {
   "cell_type": "markdown",
   "metadata": {},
   "source": [
    "Consider a mixture of Gaussians model\n",
    "\n",
    "$$\\mu_k \\sim N(0, \\sigma^2), k=1,...,K$$\n",
    "$$c_i \\sim \\text{Cat}(1/K, ..., 1/K), i=1,...,n$$\n",
    "$$x_i|c_i,\\mu \\sim \\mathcal{N}(c_i^T \\mu, 1), i=1,...,n$$\n",
    "\n",
    "(see also [this example](https://pyro.ai/examples/gmm.html))\n",
    "\n",
    "We choose a mean-field variational family of the form\n",
    "\n",
    "$$q(\\mu, c) = \\prod_{k=1}^K q(\\mu_k; m_k, s^2_k) \\prod_{i=1}^n q(c_i; \\phi_i)$$\n",
    "\n",
    "where we seek to optimize $m_k, s^2_k, \\phi_i$. In this case, \n",
    "\n",
    "$$q(\\mu_k; m_k, s^2_k) = \\mathcal{N}(m_k, s^2_k) $$\n",
    "\n",
    "$$q(c_i; \\phi_i) = \\phi_i$$\n",
    "\n",
    "where $\\phi_i$ is a K-vector of probabilities."
   ]
  },
  {
   "cell_type": "code",
   "execution_count": 18,
   "metadata": {},
   "outputs": [],
   "source": [
    "np.random.seed(42)\n",
    "\n",
    "K = 2\n",
    "n = 100\n",
    "sigma_mu = 10.\n",
    "mu_k = np.random.normal(0, sigma_mu, size=K)\n",
    "ci = np.random.choice(K, size=n)\n",
    "sigma = 1\n",
    "d = []\n",
    "for i, c in enumerate(ci):\n",
    "    d.append(np.random.normal(mu_k[c], sigma))\n",
    "d = np.hstack(d)"
   ]
  },
  {
   "cell_type": "code",
   "execution_count": 19,
   "metadata": {},
   "outputs": [
    {
     "data": {
      "image/png": "[encoded data removed]",
      "text/plain": [
       "<Figure size 432x288 with 1 Axes>"
      ]
     },
     "metadata": {
      "needs_background": "light"
     },
     "output_type": "display_data"
    }
   ],
   "source": [
    "plt.hist(d, bins='auto');"
   ]
  },
  {
   "cell_type": "code",
   "execution_count": 20,
   "metadata": {},
   "outputs": [],
   "source": [
    "from pyro.infer import config_enumerate"
   ]
  },
  {
   "cell_type": "code",
   "execution_count": 21,
   "metadata": {},
   "outputs": [],
   "source": [
    "@config_enumerate\n",
    "def model_mixture_of_gaussians(data):\n",
    "    weights = torch.ones(K, dtype=float)/K\n",
    "    \n",
    "    with pyro.plate(\"mu\", K):\n",
    "        locs = pyro.sample(\"locs\", dist.Normal(0., sigma_mu))\n",
    "        \n",
    "    with pyro.plate(\"data\", len(data)):\n",
    "        assignment = pyro.sample('assignment', dist.Categorical(weights)).to(torch.int64)\n",
    "        pyro.sample('obs', dist.Normal(locs[assignment], 1.), obs=data)\n",
    "    "
   ]
  },
  {
   "cell_type": "code",
   "execution_count": 22,
   "metadata": {},
   "outputs": [],
   "source": [
    "@config_enumerate\n",
    "def guide_mixture_of_gaussians(data):\n",
    "    with pyro.plate(\"mu\", K):        \n",
    "        m_k = pyro.param(\"m\", torch.tensor(0.))\n",
    "        s_k = pyro.param(\"s\", torch.tensor(10.), constraint=constraints.positive)\n",
    "        pyro.sample(\"locs\", dist.Normal(m_k, s_k))\n",
    "    \n",
    "    with pyro.plate(\"data\", len(data)):\n",
    "        assignment_probs = pyro.param('assignment_probs', torch.ones(len(data))/K, constraint=constraints.unit_interval)\n",
    "        pyro.sample('assignment', dist.Bernoulli(assignment_probs))"
   ]
  },
  {
   "cell_type": "code",
   "execution_count": 23,
   "metadata": {},
   "outputs": [],
   "source": [
    "svi = SVI(model_mixture_of_gaussians, guide_mixture_of_gaussians, optimizer, loss=Trace_ELBO())"
   ]
  },
  {
   "cell_type": "code",
   "execution_count": 30,
   "metadata": {},
   "outputs": [
    {
     "name": "stderr",
     "output_type": "stream",
     "text": [
      "100%|██████████| 1000/1000 [00:02<00:00, 368.47it/s]\n"
     ]
    }
   ],
   "source": [
    "n_steps = 1000\n",
    "losses = []\n",
    "d_tensor = torch.tensor(d)\n",
    "for step in tqdm(range(n_steps)):    \n",
    "    losses.append(svi.step(d_tensor))"
   ]
  },
  {
   "cell_type": "code",
   "execution_count": 25,
   "metadata": {},
   "outputs": [
    {
     "data": {
      "text/plain": [
       "tensor(0.0976, requires_grad=True)"
      ]
     },
     "execution_count": 25,
     "metadata": {},
     "output_type": "execute_result"
    }
   ],
   "source": [
    "pyro.param('m')"
   ]
  },
  {
   "cell_type": "code",
   "execution_count": 26,
   "metadata": {},
   "outputs": [
    {
     "data": {
      "text/plain": [
       "tensor(7.2763, grad_fn=<AddBackward0>)"
      ]
     },
     "execution_count": 26,
     "metadata": {},
     "output_type": "execute_result"
    }
   ],
   "source": [
    "pyro.param('s')"
   ]
  },
  {
   "cell_type": "code",
   "execution_count": 27,
   "metadata": {},
   "outputs": [
    {
     "data": {
      "text/plain": [
       "tensor([0.4996, 0.4984, 0.4988, 0.5005, 0.5026, 0.5000, 0.5013, 0.5031, 0.5033,\n",
       "        0.4990, 0.5035, 0.4916, 0.5062, 0.5051, 0.4990, 0.5001, 0.5048, 0.5018,\n",
       "        0.5042, 0.5019, 0.5036, 0.5051, 0.5002, 0.5067, 0.4987, 0.5030, 0.5020,\n",
       "        0.5043, 0.5051, 0.5020, 0.4969, 0.5025, 0.5037, 0.5012, 0.5032, 0.5004,\n",
       "        0.4988, 0.5013, 0.5030, 0.5070, 0.5015, 0.5052, 0.4970, 0.5019, 0.5006,\n",
       "        0.4949, 0.5014, 0.5069, 0.4982, 0.5030, 0.4976, 0.5048, 0.5047, 0.5024,\n",
       "        0.4950, 0.5003, 0.4957, 0.4987, 0.4953, 0.5047, 0.5031, 0.5049, 0.4997,\n",
       "        0.5003, 0.5043, 0.5018, 0.4968, 0.4997, 0.4989, 0.5031, 0.5020, 0.5021,\n",
       "        0.4988, 0.5072, 0.4977, 0.5007, 0.5063, 0.5008, 0.5021, 0.4993, 0.5035,\n",
       "        0.4965, 0.4973, 0.5011, 0.4978, 0.5035, 0.5029, 0.5016, 0.5034, 0.5014,\n",
       "        0.5012, 0.5003, 0.5070, 0.5047, 0.5070, 0.5054, 0.5051, 0.4997, 0.5071,\n",
       "        0.5084], grad_fn=<ClampBackward1>)"
      ]
     },
     "execution_count": 27,
     "metadata": {},
     "output_type": "execute_result"
    }
   ],
   "source": [
    "pyro.param(\"assignment_probs\")"
   ]
  },
  {
   "cell_type": "code",
   "execution_count": 31,
   "metadata": {},
   "outputs": [
    {
     "data": {
      "image/png": "[encoded data removed]",
      "text/plain": [
       "<Figure size 432x288 with 1 Axes>"
      ]
     },
     "metadata": {
      "needs_background": "light"
     },
     "output_type": "display_data"
    }
   ],
   "source": [
    "fig, ax = plt.subplots()\n",
    "ax.plot(losses)\n",
    "ax.set_title(\"ELBO\")\n",
    "ax.set_xlabel(\"step\")\n",
    "ax.set_ylabel(\"loss\");"
   ]
  },
  {
   "cell_type": "markdown",
   "metadata": {},
   "source": [
    "## Amortization"
   ]
  },
  {
   "cell_type": "code",
   "execution_count": 28,
   "metadata": {},
   "outputs": [],
   "source": [
    "# TODO"
   ]
  }
 ],
 "metadata": {
  "kernelspec": {
   "display_name": "Python 3",
   "language": "python",
   "name": "python3"
  },
  "language_info": {
   "codemirror_mode": {
    "name": "ipython",
    "version": 3
   },
   "file_extension": ".py",
   "mimetype": "text/x-python",
   "name": "python",
   "nbconvert_exporter": "python",
   "pygments_lexer": "ipython3",
   "version": "3.8.5"
  }
 },
 "nbformat": 4,
 "nbformat_minor": 4
}
