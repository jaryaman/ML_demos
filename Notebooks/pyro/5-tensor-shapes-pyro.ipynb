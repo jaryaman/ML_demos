{
 "cells": [
  {
   "cell_type": "markdown",
   "id": "2e992152-dc8e-4942-82a1-98cacfde9df3",
   "metadata": {},
   "source": [
    "# Tensor shapes in pyro"
   ]
  },
  {
   "cell_type": "markdown",
   "id": "5f126d57-53f8-473a-8fa5-409bb3f256be",
   "metadata": {},
   "source": [
    "See [here](https://pytorch.org/docs/master/notes/broadcasting.html) for how broadcasting works."
   ]
  },
  {
   "cell_type": "code",
   "execution_count": null,
   "id": "2d992aee-6919-46dd-8f1e-05f6a64c46f3",
   "metadata": {},
   "outputs": [],
   "source": []
  }
 ],
 "metadata": {
  "kernelspec": {
   "display_name": "Python 3 (ipykernel)",
   "language": "python",
   "name": "python3"
  },
  "language_info": {
   "codemirror_mode": {
    "name": "ipython",
    "version": 3
   },
   "file_extension": ".py",
   "mimetype": "text/x-python",
   "name": "python",
   "nbconvert_exporter": "python",
   "pygments_lexer": "ipython3",
   "version": "3.9.7"
  }
 },
 "nbformat": 4,
 "nbformat_minor": 5
}
