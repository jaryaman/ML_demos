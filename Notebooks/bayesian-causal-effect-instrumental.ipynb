{
 "cells": [
  {
   "cell_type": "markdown",
   "metadata": {},
   "source": [
    "# Bayesian inference of average causal effect with instrumental variables"
   ]
  },
  {
   "cell_type": "code",
   "execution_count": 45,
   "metadata": {},
   "outputs": [],
   "source": [
    "import stan\n",
    "import numpy as np\n",
    "from scipy.stats import beta\n",
    "import matplotlib.pyplot as plt"
   ]
  },
  {
   "cell_type": "markdown",
   "metadata": {},
   "source": [
    "We will implement inference of average causal effect using the finite-response treatment given by Pearl, Causality 2009."
   ]
  },
  {
   "cell_type": "markdown",
   "metadata": {},
   "source": [
    " <img src=\"Figures/ace.jpg\" style=\"width:700px\"> "
   ]
  },
  {
   "cell_type": "markdown",
   "metadata": {},
   "source": [
    "## Warm-up: using PyStan & beta-binomial model"
   ]
  },
  {
   "cell_type": "markdown",
   "metadata": {},
   "source": [
    "Below is a minimal working example for using PyStan for inference on a coin flip with a beta-distributed prior."
   ]
  },
  {
   "cell_type": "code",
   "execution_count": 46,
   "metadata": {},
   "outputs": [],
   "source": [
    "x = np.random.choice([0,1], p=[0.2,0.8], size=1000) # data"
   ]
  },
  {
   "cell_type": "markdown",
   "metadata": {},
   "source": [
    "Declare the model using the Stan probabilistic programming language"
   ]
  },
  {
   "cell_type": "code",
   "execution_count": 24,
   "metadata": {},
   "outputs": [],
   "source": [
    "coin_flip = \"\"\"\n",
    "data {\n",
    "  int<lower=0> N;\n",
    "  int<lower=0, upper=1> x[N];   \n",
    "}\n",
    "parameters {\n",
    "  real<lower=0, upper=1> theta;\n",
    "}\n",
    "model {\n",
    "  theta ~ beta(0.5, 0.5);\n",
    "  x ~ bernoulli(theta);\n",
    "}\n",
    "\"\"\""
   ]
  },
  {
   "cell_type": "markdown",
   "metadata": {},
   "source": [
    "Compile the model"
   ]
  },
  {
   "cell_type": "code",
   "execution_count": 25,
   "metadata": {},
   "outputs": [],
   "source": [
    "coin_data = {\"x\": x, \"N\":len(x)}"
   ]
  },
  {
   "cell_type": "code",
   "execution_count": 26,
   "metadata": {},
   "outputs": [
    {
     "name": "stderr",
     "output_type": "stream",
     "text": [
      "Building... This may take some time.\n",
      "Done.\n"
     ]
    }
   ],
   "source": [
    "posterior = stan.build(coin_flip, data=coin_data, random_seed=1)"
   ]
  },
  {
   "cell_type": "markdown",
   "metadata": {},
   "source": [
    "Perform inference"
   ]
  },
  {
   "cell_type": "code",
   "execution_count": 27,
   "metadata": {},
   "outputs": [
    {
     "name": "stderr",
     "output_type": "stream",
     "text": [
      "Sampling...\n",
      "Messages received during sampling:\n",
      "  Gradient evaluation took 6e-06 seconds\n",
      "  1000 transitions using 10 leapfrog steps per transition would take 0.06 seconds.\n",
      "  Adjust your expectations accordingly!\n",
      "  Gradient evaluation took 6e-06 seconds\n",
      "  1000 transitions using 10 leapfrog steps per transition would take 0.06 seconds.\n",
      "  Adjust your expectations accordingly!\n",
      "  Gradient evaluation took 6e-06 seconds\n",
      "  1000 transitions using 10 leapfrog steps per transition would take 0.06 seconds.\n",
      "  Adjust your expectations accordingly!\n",
      "  Gradient evaluation took 6e-06 seconds\n",
      "  1000 transitions using 10 leapfrog steps per transition would take 0.06 seconds.\n",
      "  Adjust your expectations accordingly!\n",
      "    0 [>---------------------------]  1 sec\n",
      "Done.\n"
     ]
    }
   ],
   "source": [
    "fit = posterior.sample(num_chains=4, num_samples=1000)"
   ]
  },
  {
   "cell_type": "markdown",
   "metadata": {},
   "source": [
    "Compare to theory"
   ]
  },
  {
   "cell_type": "code",
   "execution_count": 28,
   "metadata": {},
   "outputs": [],
   "source": [
    "df = fit.to_frame()"
   ]
  },
  {
   "cell_type": "code",
   "execution_count": 37,
   "metadata": {},
   "outputs": [],
   "source": [
    "a = 0.5 + np.sum(x)\n",
    "b = 0.5 + len(x) - np.sum(x)\n",
    "theta_sp = np.linspace(0.79, 0.86)\n",
    "posterior_theory = beta.pdf(theta_sp, a, b)"
   ]
  },
  {
   "cell_type": "code",
   "execution_count": 44,
   "metadata": {},
   "outputs": [
    {
     "data": {
      "text/plain": [
       "<matplotlib.legend.Legend at 0x7f7f86622f40>"
      ]
     },
     "execution_count": 44,
     "metadata": {},
     "output_type": "execute_result"
    },
    {
     "data": {
      "image/png": "[encoded data removed]",
      "text/plain": [
       "<Figure size 432x288 with 1 Axes>"
      ]
     },
     "metadata": {
      "needs_background": "light"
     },
     "output_type": "display_data"
    }
   ],
   "source": [
    "fig, ax = plt.subplots()\n",
    "df['theta'].hist(ax=ax, bins='auto', label='samples', density=True)\n",
    "ax.plot(theta_sp, posterior_theory, '-k', label='theory')\n",
    "ax.set_xlabel(r'$\\theta$')\n",
    "ax.set_ylabel(r'$P(\\theta)$')\n",
    "ax.legend()"
   ]
  },
  {
   "cell_type": "markdown",
   "metadata": {},
   "source": [
    "As expected"
   ]
  },
  {
   "cell_type": "markdown",
   "metadata": {},
   "source": [
    "## Finite-response treatment of instrumental variable model"
   ]
  },
  {
   "cell_type": "code",
   "execution_count": null,
   "metadata": {},
   "outputs": [],
   "source": []
  }
 ],
 "metadata": {
  "kernelspec": {
   "display_name": "Python 3",
   "language": "python",
   "name": "python3"
  },
  "language_info": {
   "codemirror_mode": {
    "name": "ipython",
    "version": 3
   },
   "file_extension": ".py",
   "mimetype": "text/x-python",
   "name": "python",
   "nbconvert_exporter": "python",
   "pygments_lexer": "ipython3",
   "version": "3.8.5"
  }
 },
 "nbformat": 4,
 "nbformat_minor": 4
}
