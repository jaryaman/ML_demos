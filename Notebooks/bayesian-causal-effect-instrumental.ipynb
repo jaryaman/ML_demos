{
 "cells": [
  {
   "cell_type": "markdown",
   "metadata": {},
   "source": [
    "# Bayesian inference of average causal effect with instrumental variables"
   ]
  },
  {
   "cell_type": "code",
   "execution_count": null,
   "metadata": {},
   "outputs": [],
   "source": [
    "import stan\n",
    "import numpy as np\n",
    "from scipy.stats import beta\n",
    "import matplotlib.pyplot as plt"
   ]
  },
  {
   "cell_type": "markdown",
   "metadata": {},
   "source": [
    "We will implement inference of average causal effect using the finite-response treatment given by Pearl, Causality 2009."
   ]
  },
  {
   "cell_type": "markdown",
   "metadata": {},
   "source": [
    "## Warm-up: using PyStan & beta-binomial model"
   ]
  },
  {
   "cell_type": "markdown",
   "metadata": {},
   "source": [
    "Below is a minimal working example for using PyStan for inference on a coin flip with a beta-distributed prior."
   ]
  },
  {
   "cell_type": "code",
   "execution_count": null,
   "metadata": {},
   "outputs": [],
   "source": [
    "x = np.random.choice([0,1], p=[0.2,0.8], size=1000) # data"
   ]
  },
  {
   "cell_type": "markdown",
   "metadata": {},
   "source": [
    "Declare the model using the Stan probabilistic programming language"
   ]
  },
  {
   "cell_type": "code",
   "execution_count": null,
   "metadata": {},
   "outputs": [],
   "source": [
    "coin_flip = \"\"\"\n",
    "data {\n",
    "  int<lower=0> N;\n",
    "  int<lower=0, upper=1> x[N];   \n",
    "}\n",
    "parameters {\n",
    "  real<lower=0, upper=1> theta;\n",
    "}\n",
    "model {\n",
    "  theta ~ beta(0.5, 0.5);\n",
    "  x ~ bernoulli(theta);\n",
    "}\n",
    "\"\"\""
   ]
  },
  {
   "cell_type": "markdown",
   "metadata": {},
   "source": [
    "Compile the model"
   ]
  },
  {
   "cell_type": "code",
   "execution_count": null,
   "metadata": {},
   "outputs": [],
   "source": [
    "coin_data = {\"x\": x, \"N\":len(x)}"
   ]
  },
  {
   "cell_type": "code",
   "execution_count": null,
   "metadata": {},
   "outputs": [],
   "source": [
    "posterior = stan.build(coin_flip, data=coin_data, random_seed=1)"
   ]
  },
  {
   "cell_type": "markdown",
   "metadata": {},
   "source": [
    "Perform inference"
   ]
  },
  {
   "cell_type": "code",
   "execution_count": null,
   "metadata": {},
   "outputs": [],
   "source": [
    "fit = posterior.sample(num_chains=4, num_samples=1000)"
   ]
  },
  {
   "cell_type": "markdown",
   "metadata": {},
   "source": [
    "Compare to theory"
   ]
  },
  {
   "cell_type": "code",
   "execution_count": null,
   "metadata": {},
   "outputs": [],
   "source": [
    "df = fit.to_frame()"
   ]
  },
  {
   "cell_type": "code",
   "execution_count": null,
   "metadata": {},
   "outputs": [],
   "source": [
    "a = 0.5 + np.sum(x)\n",
    "b = 0.5 + len(x) - np.sum(x)\n",
    "theta_sp = np.linspace(0.79, 0.86)\n",
    "posterior_theory = beta.pdf(theta_sp, a, b)"
   ]
  },
  {
   "cell_type": "code",
   "execution_count": null,
   "metadata": {},
   "outputs": [],
   "source": [
    "fig, ax = plt.subplots()\n",
    "df['theta'].hist(ax=ax, bins='auto', label='samples', density=True)\n",
    "ax.plot(theta_sp, posterior_theory, '-k', label='theory')\n",
    "ax.set_xlabel(r'$\\theta$')\n",
    "ax.set_ylabel(r'$P(\\theta)$')\n",
    "ax.legend()"
   ]
  },
  {
   "cell_type": "markdown",
   "metadata": {},
   "source": [
    "As expected"
   ]
  },
  {
   "cell_type": "markdown",
   "metadata": {},
   "source": [
    "## Finite-response treatment of instrumental variable model"
   ]
  },
  {
   "cell_type": "markdown",
   "metadata": {},
   "source": [
    "Imagine we are running a clinical trial, and the variable $Z \\in \\{0,1\\}$ represents the treatment assigned to a patient. Let $X \\in \\{0,1\\}$ denote whether the patient takes the treatment, and $Y \\in \\{0,1\\}$ denote the observed response. There are factors (both observed and unobserved) $U$ that influence the way a subject responds to treatments, which may also affect the patient's choice to take the treatment. When $z \\neq x$ we have imperfect compliance.\n",
    "\n",
    " <img src=\"Figures/instrumental-variable.jpg\" style=\"width:500px\"> "
   ]
  },
  {
   "cell_type": "markdown",
   "metadata": {},
   "source": [
    "Pearl (Causality, 2009) shows that regardless of the domain of $U$, it can always be partitioned into four equivalence classes for the relationship between $X$ and $Y$, and similar for $Z$ and $X$, resulting in a 16 possible subpopulations to describe $U$ completely:"
   ]
  },
  {
   "cell_type": "markdown",
   "metadata": {},
   "source": [
    " <img src=\"Figures/ace.jpg\" style=\"width:400px\"> "
   ]
  },
  {
   "cell_type": "markdown",
   "metadata": {},
   "source": [
    "Let's generate the data $X$, $Y$, $Z$ according to these canonical partitions, so we have access to the ground truth for inference"
   ]
  },
  {
   "cell_type": "code",
   "execution_count": null,
   "metadata": {},
   "outputs": [],
   "source": [
    "from scipy.stats import multinomial, dirichlet"
   ]
  },
  {
   "cell_type": "code",
   "execution_count": null,
   "metadata": {},
   "outputs": [],
   "source": [
    "p_subpop = dirichlet.rvs(0.5*np.ones(16), size=1, random_state=42)\n",
    "p_subpop = p_subpop.squeeze(0)"
   ]
  },
  {
   "cell_type": "code",
   "execution_count": null,
   "metadata": {},
   "outputs": [],
   "source": [
    "multinomial.rvs(1, p_subpop, size=N, random_state=42)"
   ]
  },
  {
   "cell_type": "code",
   "execution_count": null,
   "metadata": {},
   "outputs": [],
   "source": [
    "N = 1000\n",
    "R = multinomial.rvs(1, p_subpop, size=N, random_state=42).reshape((N,4,4))\n",
    "_, rx, ry = np.where(R)"
   ]
  },
  {
   "cell_type": "code",
   "execution_count": null,
   "metadata": {},
   "outputs": [],
   "source": [
    "R[0]"
   ]
  },
  {
   "cell_type": "code",
   "execution_count": null,
   "metadata": {},
   "outputs": [],
   "source": [
    "rx[0], ry[0]"
   ]
  },
  {
   "cell_type": "code",
   "execution_count": null,
   "metadata": {},
   "outputs": [],
   "source": [
    "def make_response_mapping(u: int, r: int):\n",
    "    if r==0:\n",
    "        return 0\n",
    "    elif r==1 and u==0:\n",
    "        return 0\n",
    "    elif r==1 and u==1:\n",
    "        return 1\n",
    "    elif r==2 and u==0:\n",
    "        return 1\n",
    "    elif r==2 and u==1:\n",
    "        return 0\n",
    "    elif r==3:\n",
    "        return 1\n",
    "    else:\n",
    "        raise ValueError"
   ]
  },
  {
   "cell_type": "code",
   "execution_count": null,
   "metadata": {},
   "outputs": [],
   "source": [
    "_make_response_mapping = np.vectorize(make_response_mapping)"
   ]
  },
  {
   "cell_type": "code",
   "execution_count": null,
   "metadata": {},
   "outputs": [],
   "source": [
    "x = _make_response_mapping(z, rx)\n",
    "y = _make_response_mapping(x, ry)"
   ]
  },
  {
   "cell_type": "code",
   "execution_count": null,
   "metadata": {},
   "outputs": [],
   "source": [
    "z.shape, x.shape, y.shape"
   ]
  },
  {
   "cell_type": "markdown",
   "metadata": {},
   "source": [
    "## Make PyStan model"
   ]
  },
  {
   "cell_type": "code",
   "execution_count": null,
   "metadata": {},
   "outputs": [],
   "source": [
    "canonical_partition_instrument = \"\"\"\n",
    "data {\n",
    "  int<lower=0> N;\n",
    "  int<lower=0, upper=1> x[N];\n",
    "  int<lower=0, upper=1> y[N];\n",
    "  int<lower=0, upper=1> z[N];\n",
    "}\n",
    "parameters {  \n",
    "  vector<lower=0, upper=1>[16] vr;\n",
    "  int<lower=1, upper=16> r;\n",
    "}\n",
    "model {\n",
    "  r ~ categorical(vr);\n",
    "  \n",
    "  if((r == 1) || (r == 5) || (r==9) || (r==13))\n",
    "    x=0;\n",
    "  else if (((r == 2) || (r == 6) || (r==10) || (r==14)) && (z==0))\n",
    "    x=0;\n",
    "  else if (((r == 2) || (r == 6) || (r==10) || (r==14)) && (z==1))\n",
    "    x=1;\n",
    "  else if (((r == 3) || (r == 7) || (r==11) || (r==15)) && (z==0))\n",
    "    x=1;\n",
    "  else if (((r == 3) || (r == 7) || (r==11) || (r==15)) && (z==1))\n",
    "    x=0;\n",
    "  else if((r == 4) || (r == 8) || (r==12) || (r==16))\n",
    "    x=1;\n",
    "\n",
    "  if((r == 1) || (r == 2) || (r==3) || (r==4))\n",
    "    y=0;\n",
    "  else if (((r == 5) || (r == 6) || (r==7) || (r==8)) && (x==0))\n",
    "    y=0;\n",
    "  else if (((r == 5) || (r == 6) || (r==7) || (r==8)) && (x==1))\n",
    "    y=1;\n",
    "  else if (((r == 9) || (r == 10) || (r==11) || (r==12)) && (x==0))\n",
    "    y=1;\n",
    "  else if (((r == 9) || (r == 10) || (r==11) || (r==12)) && (x==1))\n",
    "    y=0;\n",
    "  else if (((r == 13) || (r == 14) || (r==15) || (r==16)) && (x==0))\n",
    "    y=1;\n",
    "      \n",
    "}\n",
    "\"\"\"\n"
   ]
  },
  {
   "cell_type": "markdown",
   "metadata": {},
   "source": [
    "Compile the model"
   ]
  },
  {
   "cell_type": "code",
   "execution_count": null,
   "metadata": {},
   "outputs": [],
   "source": [
    "canonical_partition_instrument_data = {\"x\": x, \"y\":y, \"z\":z, \"N\":N}"
   ]
  },
  {
   "cell_type": "code",
   "execution_count": null,
   "metadata": {},
   "outputs": [],
   "source": [
    "posterior = stan.build(canonical_partition_instrument, data=canonical_partition_instrument_data, random_seed=1)"
   ]
  },
  {
   "cell_type": "markdown",
   "metadata": {},
   "source": [
    "It turns out that latent discrete variables are not supported in Stan [see here](https://mc-stan.org/docs/2_22/stan-users-guide/latent-discrete-chapter.html). Would have to use a Gibbs sampler like BUGS or JAGS. Nevermind, it was worth a try."
   ]
  }
 ],
 "metadata": {
  "kernelspec": {
   "display_name": "Python 3",
   "language": "python",
   "name": "python3"
  },
  "language_info": {
   "codemirror_mode": {
    "name": "ipython",
    "version": 3
   },
   "file_extension": ".py",
   "mimetype": "text/x-python",
   "name": "python",
   "nbconvert_exporter": "python",
   "pygments_lexer": "ipython3",
   "version": "3.8.5"
  }
 },
 "nbformat": 4,
 "nbformat_minor": 4
}
